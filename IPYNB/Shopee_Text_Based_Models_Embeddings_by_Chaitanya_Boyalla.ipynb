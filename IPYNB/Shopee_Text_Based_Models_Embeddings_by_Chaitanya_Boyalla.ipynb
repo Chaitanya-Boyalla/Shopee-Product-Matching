{
 "cells": [
  {
   "cell_type": "code",
   "execution_count": 1,
   "metadata": {
    "colab": {
     "base_uri": "https://localhost:8080/"
    },
    "id": "U9gOfvnM4_0_",
    "outputId": "273a25bf-b43d-4986-c17c-19e287cc8e7e"
   },
   "outputs": [
    {
     "name": "stdout",
     "output_type": "stream",
     "text": [
      "Collecting sentencepiece\n",
      "\u001b[?25l  Downloading https://files.pythonhosted.org/packages/ac/aa/1437691b0c7c83086ebb79ce2da16e00bef024f24fec2a5161c35476f499/sentencepiece-0.1.96-cp37-cp37m-manylinux_2_17_x86_64.manylinux2014_x86_64.whl (1.2MB)\n",
      "\r",
      "\u001b[K     |▎                               | 10kB 19.7MB/s eta 0:00:01\r",
      "\u001b[K     |▌                               | 20kB 26.0MB/s eta 0:00:01\r",
      "\u001b[K     |▉                               | 30kB 18.6MB/s eta 0:00:01\r",
      "\u001b[K     |█                               | 40kB 16.5MB/s eta 0:00:01\r",
      "\u001b[K     |█▍                              | 51kB 7.2MB/s eta 0:00:01\r",
      "\u001b[K     |█▋                              | 61kB 8.4MB/s eta 0:00:01\r",
      "\u001b[K     |██                              | 71kB 8.8MB/s eta 0:00:01\r",
      "\u001b[K     |██▏                             | 81kB 9.1MB/s eta 0:00:01\r",
      "\u001b[K     |██▍                             | 92kB 9.7MB/s eta 0:00:01\r",
      "\u001b[K     |██▊                             | 102kB 7.7MB/s eta 0:00:01\r",
      "\u001b[K     |███                             | 112kB 7.7MB/s eta 0:00:01\r",
      "\u001b[K     |███▎                            | 122kB 7.7MB/s eta 0:00:01\r",
      "\u001b[K     |███▌                            | 133kB 7.7MB/s eta 0:00:01\r",
      "\u001b[K     |███▉                            | 143kB 7.7MB/s eta 0:00:01\r",
      "\u001b[K     |████                            | 153kB 7.7MB/s eta 0:00:01\r",
      "\u001b[K     |████▎                           | 163kB 7.7MB/s eta 0:00:01\r",
      "\u001b[K     |████▋                           | 174kB 7.7MB/s eta 0:00:01\r",
      "\u001b[K     |████▉                           | 184kB 7.7MB/s eta 0:00:01\r",
      "\u001b[K     |█████▏                          | 194kB 7.7MB/s eta 0:00:01\r",
      "\u001b[K     |█████▍                          | 204kB 7.7MB/s eta 0:00:01\r",
      "\u001b[K     |█████▊                          | 215kB 7.7MB/s eta 0:00:01\r",
      "\u001b[K     |██████                          | 225kB 7.7MB/s eta 0:00:01\r",
      "\u001b[K     |██████▏                         | 235kB 7.7MB/s eta 0:00:01\r",
      "\u001b[K     |██████▌                         | 245kB 7.7MB/s eta 0:00:01\r",
      "\u001b[K     |██████▊                         | 256kB 7.7MB/s eta 0:00:01\r",
      "\u001b[K     |███████                         | 266kB 7.7MB/s eta 0:00:01\r",
      "\u001b[K     |███████▎                        | 276kB 7.7MB/s eta 0:00:01\r",
      "\u001b[K     |███████▋                        | 286kB 7.7MB/s eta 0:00:01\r",
      "\u001b[K     |███████▉                        | 296kB 7.7MB/s eta 0:00:01\r",
      "\u001b[K     |████████                        | 307kB 7.7MB/s eta 0:00:01\r",
      "\u001b[K     |████████▍                       | 317kB 7.7MB/s eta 0:00:01\r",
      "\u001b[K     |████████▋                       | 327kB 7.7MB/s eta 0:00:01\r",
      "\u001b[K     |█████████                       | 337kB 7.7MB/s eta 0:00:01\r",
      "\u001b[K     |█████████▏                      | 348kB 7.7MB/s eta 0:00:01\r",
      "\u001b[K     |█████████▌                      | 358kB 7.7MB/s eta 0:00:01\r",
      "\u001b[K     |█████████▊                      | 368kB 7.7MB/s eta 0:00:01\r",
      "\u001b[K     |██████████                      | 378kB 7.7MB/s eta 0:00:01\r",
      "\u001b[K     |██████████▎                     | 389kB 7.7MB/s eta 0:00:01\r",
      "\u001b[K     |██████████▌                     | 399kB 7.7MB/s eta 0:00:01\r",
      "\u001b[K     |██████████▉                     | 409kB 7.7MB/s eta 0:00:01\r",
      "\u001b[K     |███████████                     | 419kB 7.7MB/s eta 0:00:01\r",
      "\u001b[K     |███████████▍                    | 430kB 7.7MB/s eta 0:00:01\r",
      "\u001b[K     |███████████▋                    | 440kB 7.7MB/s eta 0:00:01\r",
      "\u001b[K     |███████████▉                    | 450kB 7.7MB/s eta 0:00:01\r",
      "\u001b[K     |████████████▏                   | 460kB 7.7MB/s eta 0:00:01\r",
      "\u001b[K     |████████████▍                   | 471kB 7.7MB/s eta 0:00:01\r",
      "\u001b[K     |████████████▊                   | 481kB 7.7MB/s eta 0:00:01\r",
      "\u001b[K     |█████████████                   | 491kB 7.7MB/s eta 0:00:01\r",
      "\u001b[K     |█████████████▎                  | 501kB 7.7MB/s eta 0:00:01\r",
      "\u001b[K     |█████████████▌                  | 512kB 7.7MB/s eta 0:00:01\r",
      "\u001b[K     |█████████████▊                  | 522kB 7.7MB/s eta 0:00:01\r",
      "\u001b[K     |██████████████                  | 532kB 7.7MB/s eta 0:00:01\r",
      "\u001b[K     |██████████████▎                 | 542kB 7.7MB/s eta 0:00:01\r",
      "\u001b[K     |██████████████▋                 | 552kB 7.7MB/s eta 0:00:01\r",
      "\u001b[K     |██████████████▉                 | 563kB 7.7MB/s eta 0:00:01\r",
      "\u001b[K     |███████████████▏                | 573kB 7.7MB/s eta 0:00:01\r",
      "\u001b[K     |███████████████▍                | 583kB 7.7MB/s eta 0:00:01\r",
      "\u001b[K     |███████████████▋                | 593kB 7.7MB/s eta 0:00:01\r",
      "\u001b[K     |████████████████                | 604kB 7.7MB/s eta 0:00:01\r",
      "\u001b[K     |████████████████▏               | 614kB 7.7MB/s eta 0:00:01\r",
      "\u001b[K     |████████████████▌               | 624kB 7.7MB/s eta 0:00:01\r",
      "\u001b[K     |████████████████▊               | 634kB 7.7MB/s eta 0:00:01\r",
      "\u001b[K     |█████████████████               | 645kB 7.7MB/s eta 0:00:01\r",
      "\u001b[K     |█████████████████▎              | 655kB 7.7MB/s eta 0:00:01\r",
      "\u001b[K     |█████████████████▌              | 665kB 7.7MB/s eta 0:00:01\r",
      "\u001b[K     |█████████████████▉              | 675kB 7.7MB/s eta 0:00:01\r",
      "\u001b[K     |██████████████████              | 686kB 7.7MB/s eta 0:00:01\r",
      "\u001b[K     |██████████████████▍             | 696kB 7.7MB/s eta 0:00:01\r",
      "\u001b[K     |██████████████████▋             | 706kB 7.7MB/s eta 0:00:01\r",
      "\u001b[K     |███████████████████             | 716kB 7.7MB/s eta 0:00:01\r",
      "\u001b[K     |███████████████████▏            | 727kB 7.7MB/s eta 0:00:01\r",
      "\u001b[K     |███████████████████▍            | 737kB 7.7MB/s eta 0:00:01\r",
      "\u001b[K     |███████████████████▊            | 747kB 7.7MB/s eta 0:00:01\r",
      "\u001b[K     |████████████████████            | 757kB 7.7MB/s eta 0:00:01\r",
      "\u001b[K     |████████████████████▎           | 768kB 7.7MB/s eta 0:00:01\r",
      "\u001b[K     |████████████████████▌           | 778kB 7.7MB/s eta 0:00:01\r",
      "\u001b[K     |████████████████████▉           | 788kB 7.7MB/s eta 0:00:01\r",
      "\u001b[K     |█████████████████████           | 798kB 7.7MB/s eta 0:00:01\r",
      "\u001b[K     |█████████████████████▎          | 808kB 7.7MB/s eta 0:00:01\r",
      "\u001b[K     |█████████████████████▋          | 819kB 7.7MB/s eta 0:00:01\r",
      "\u001b[K     |█████████████████████▉          | 829kB 7.7MB/s eta 0:00:01\r",
      "\u001b[K     |██████████████████████▏         | 839kB 7.7MB/s eta 0:00:01\r",
      "\u001b[K     |██████████████████████▍         | 849kB 7.7MB/s eta 0:00:01\r",
      "\u001b[K     |██████████████████████▊         | 860kB 7.7MB/s eta 0:00:01\r",
      "\u001b[K     |███████████████████████         | 870kB 7.7MB/s eta 0:00:01\r",
      "\u001b[K     |███████████████████████▏        | 880kB 7.7MB/s eta 0:00:01\r",
      "\u001b[K     |███████████████████████▌        | 890kB 7.7MB/s eta 0:00:01\r",
      "\u001b[K     |███████████████████████▊        | 901kB 7.7MB/s eta 0:00:01\r",
      "\u001b[K     |████████████████████████        | 911kB 7.7MB/s eta 0:00:01\r",
      "\u001b[K     |████████████████████████▎       | 921kB 7.7MB/s eta 0:00:01\r",
      "\u001b[K     |████████████████████████▋       | 931kB 7.7MB/s eta 0:00:01\r",
      "\u001b[K     |████████████████████████▉       | 942kB 7.7MB/s eta 0:00:01\r",
      "\u001b[K     |█████████████████████████       | 952kB 7.7MB/s eta 0:00:01\r",
      "\u001b[K     |█████████████████████████▍      | 962kB 7.7MB/s eta 0:00:01\r",
      "\u001b[K     |█████████████████████████▋      | 972kB 7.7MB/s eta 0:00:01\r",
      "\u001b[K     |██████████████████████████      | 983kB 7.7MB/s eta 0:00:01\r",
      "\u001b[K     |██████████████████████████▏     | 993kB 7.7MB/s eta 0:00:01\r",
      "\u001b[K     |██████████████████████████▌     | 1.0MB 7.7MB/s eta 0:00:01\r",
      "\u001b[K     |██████████████████████████▊     | 1.0MB 7.7MB/s eta 0:00:01\r",
      "\u001b[K     |███████████████████████████     | 1.0MB 7.7MB/s eta 0:00:01\r",
      "\u001b[K     |███████████████████████████▎    | 1.0MB 7.7MB/s eta 0:00:01\r",
      "\u001b[K     |███████████████████████████▌    | 1.0MB 7.7MB/s eta 0:00:01\r",
      "\u001b[K     |███████████████████████████▉    | 1.1MB 7.7MB/s eta 0:00:01\r",
      "\u001b[K     |████████████████████████████    | 1.1MB 7.7MB/s eta 0:00:01\r",
      "\u001b[K     |████████████████████████████▍   | 1.1MB 7.7MB/s eta 0:00:01\r",
      "\u001b[K     |████████████████████████████▋   | 1.1MB 7.7MB/s eta 0:00:01\r",
      "\u001b[K     |████████████████████████████▉   | 1.1MB 7.7MB/s eta 0:00:01\r",
      "\u001b[K     |█████████████████████████████▏  | 1.1MB 7.7MB/s eta 0:00:01\r",
      "\u001b[K     |█████████████████████████████▍  | 1.1MB 7.7MB/s eta 0:00:01\r",
      "\u001b[K     |█████████████████████████████▊  | 1.1MB 7.7MB/s eta 0:00:01\r",
      "\u001b[K     |██████████████████████████████  | 1.1MB 7.7MB/s eta 0:00:01\r",
      "\u001b[K     |██████████████████████████████▎ | 1.1MB 7.7MB/s eta 0:00:01\r",
      "\u001b[K     |██████████████████████████████▌ | 1.2MB 7.7MB/s eta 0:00:01\r",
      "\u001b[K     |██████████████████████████████▊ | 1.2MB 7.7MB/s eta 0:00:01\r",
      "\u001b[K     |███████████████████████████████ | 1.2MB 7.7MB/s eta 0:00:01\r",
      "\u001b[K     |███████████████████████████████▎| 1.2MB 7.7MB/s eta 0:00:01\r",
      "\u001b[K     |███████████████████████████████▋| 1.2MB 7.7MB/s eta 0:00:01\r",
      "\u001b[K     |███████████████████████████████▉| 1.2MB 7.7MB/s eta 0:00:01\r",
      "\u001b[K     |████████████████████████████████| 1.2MB 7.7MB/s \n",
      "\u001b[?25hInstalling collected packages: sentencepiece\n",
      "Successfully installed sentencepiece-0.1.96\n"
     ]
    }
   ],
   "source": [
    "! pip3 install sentencepiece"
   ]
  },
  {
   "cell_type": "code",
   "execution_count": 1,
   "metadata": {
    "id": "IVXcfRb2WDWN"
   },
   "outputs": [],
   "source": [
    "import pandas as pd\n",
    "import io\n",
    "import gc\n",
    "import scipy\n",
    "import numpy as np\n",
    "from tqdm import tqdm\n",
    "from sklearn.feature_extraction.text import TfidfVectorizer\n",
    "from sklearn.neighbors import NearestNeighbors\n",
    "import tensorflow as tf\n",
    "import tensorflow_hub as hub\n",
    "from sklearn.model_selection import train_test_split\n",
    "from sklearn.preprocessing import LabelEncoder"
   ]
  },
  {
   "cell_type": "code",
   "execution_count": 2,
   "metadata": {
    "id": "8A1vK2Bh6ESo"
   },
   "outputs": [],
   "source": [
    "def f1_score(actual, predicted):\n",
    "    # In this problem the evaluation metric is f1-score averaged over the test datapoints.\n",
    "    avg_f1=0\n",
    "    for i in range(len(actual)):\n",
    "        f1=2*(len(set(actual[i]).intersection(set(predicted[i])))/(len(actual[i])+len(predicted[i])))\n",
    "        avg_f1+=f1\n",
    "    return avg_f1/len(actual)"
   ]
  },
  {
   "cell_type": "code",
   "execution_count": 3,
   "metadata": {
    "id": "nyQf3fuy8FfI"
   },
   "outputs": [],
   "source": [
    "import re\n",
    "def preprocess(description):\n",
    "  # Actually not required as what we have is titles which usually doesn't contain words that we use for general communication.\n",
    "    description=description.lower()\n",
    "    description=re.sub('[-\\n\\t]+',' ',description)\n",
    "    description= re.sub(r\"won\\'t\", \"will not\",description)\n",
    "    description=re.sub(r\"can\\'t\", \"can not\",description)\n",
    "    description=re.sub(r\"n\\'t\", \" not\",description)\n",
    "    description=re.sub(r\"\\'re\", \" are\",description)\n",
    "    description=re.sub(r\"\\'s\", \" is\",description)\n",
    "    description=re.sub(r\"\\'d\", \" would\",description)\n",
    "    description=re.sub(r\"\\'ll\", \" will\",description)\n",
    "    description=re.sub(r\"\\'t\", \" not\",description)\n",
    "    description=re.sub(r\"\\'ve\", \" have\",description)\n",
    "    description=re.sub(r\"\\'m\", \" am\",description)\n",
    "    description=re.sub('[^a-z0-9]+',' ',description)\n",
    "    description=re.sub('\\s+',' ',description)\n",
    "    return description.strip()"
   ]
  },
  {
   "cell_type": "code",
   "execution_count": 4,
   "metadata": {
    "colab": {
     "base_uri": "https://localhost:8080/",
     "height": 304
    },
    "id": "QTCBXioT7wt3",
    "outputId": "7256df89-c9c3-4c6e-8fb5-69c5e27be8cc"
   },
   "outputs": [
    {
     "name": "stdout",
     "output_type": "stream",
     "text": [
      "(34250, 7)\n"
     ]
    },
    {
     "data": {
      "text/html": [
       "<div>\n",
       "<style scoped>\n",
       "    .dataframe tbody tr th:only-of-type {\n",
       "        vertical-align: middle;\n",
       "    }\n",
       "\n",
       "    .dataframe tbody tr th {\n",
       "        vertical-align: top;\n",
       "    }\n",
       "\n",
       "    .dataframe thead th {\n",
       "        text-align: right;\n",
       "    }\n",
       "</style>\n",
       "<table border=\"1\" class=\"dataframe\">\n",
       "  <thead>\n",
       "    <tr style=\"text-align: right;\">\n",
       "      <th></th>\n",
       "      <th>posting_id</th>\n",
       "      <th>image</th>\n",
       "      <th>image_phash</th>\n",
       "      <th>title</th>\n",
       "      <th>label_group</th>\n",
       "      <th>targets</th>\n",
       "      <th>preprocessed_title</th>\n",
       "    </tr>\n",
       "  </thead>\n",
       "  <tbody>\n",
       "    <tr>\n",
       "      <th>0</th>\n",
       "      <td>train_129225211</td>\n",
       "      <td>0000a68812bc7e98c42888dfb1c07da0.jpg</td>\n",
       "      <td>94974f937d4c2433</td>\n",
       "      <td>Paper Bag Victoria Secret</td>\n",
       "      <td>249114794</td>\n",
       "      <td>[train_129225211, train_2278313361]</td>\n",
       "      <td>paper bag victoria secret</td>\n",
       "    </tr>\n",
       "    <tr>\n",
       "      <th>1</th>\n",
       "      <td>train_3386243561</td>\n",
       "      <td>00039780dfc94d01db8676fe789ecd05.jpg</td>\n",
       "      <td>af3f9460c2838f0f</td>\n",
       "      <td>Double Tape 3M VHB 12 mm x 4,5 m ORIGINAL / DO...</td>\n",
       "      <td>2937985045</td>\n",
       "      <td>[train_3386243561, train_3423213080]</td>\n",
       "      <td>double tape 3m vhb 12 mm x 4 5 m original doub...</td>\n",
       "    </tr>\n",
       "    <tr>\n",
       "      <th>2</th>\n",
       "      <td>train_2288590299</td>\n",
       "      <td>000a190fdd715a2a36faed16e2c65df7.jpg</td>\n",
       "      <td>b94cb00ed3e50f78</td>\n",
       "      <td>Maling TTS Canned Pork Luncheon Meat 397 gr</td>\n",
       "      <td>2395904891</td>\n",
       "      <td>[train_2288590299, train_3803689425]</td>\n",
       "      <td>maling tts canned pork luncheon meat 397 gr</td>\n",
       "    </tr>\n",
       "    <tr>\n",
       "      <th>3</th>\n",
       "      <td>train_2406599165</td>\n",
       "      <td>00117e4fc239b1b641ff08340b429633.jpg</td>\n",
       "      <td>8514fc58eafea283</td>\n",
       "      <td>Daster Batik Lengan pendek - Motif Acak / Camp...</td>\n",
       "      <td>4093212188</td>\n",
       "      <td>[train_2406599165, train_3342059966]</td>\n",
       "      <td>daster batik lengan pendek motif acak campur l...</td>\n",
       "    </tr>\n",
       "    <tr>\n",
       "      <th>4</th>\n",
       "      <td>train_3369186413</td>\n",
       "      <td>00136d1cf4edede0203f32f05f660588.jpg</td>\n",
       "      <td>a6f319f924ad708c</td>\n",
       "      <td>Nescafe \\xc3\\x89clair Latte 220ml</td>\n",
       "      <td>3648931069</td>\n",
       "      <td>[train_3369186413, train_921438619]</td>\n",
       "      <td>nescafe xc3 x89clair latte 220ml</td>\n",
       "    </tr>\n",
       "  </tbody>\n",
       "</table>\n",
       "</div>"
      ],
      "text/plain": [
       "         posting_id  ...                                 preprocessed_title\n",
       "0   train_129225211  ...                          paper bag victoria secret\n",
       "1  train_3386243561  ...  double tape 3m vhb 12 mm x 4 5 m original doub...\n",
       "2  train_2288590299  ...        maling tts canned pork luncheon meat 397 gr\n",
       "3  train_2406599165  ...  daster batik lengan pendek motif acak campur l...\n",
       "4  train_3369186413  ...                   nescafe xc3 x89clair latte 220ml\n",
       "\n",
       "[5 rows x 7 columns]"
      ]
     },
     "execution_count": 4,
     "metadata": {
      "tags": []
     },
     "output_type": "execute_result"
    }
   ],
   "source": [
    "train=pd.read_csv('/content/drive/MyDrive/Colab Notebooks/Case Study 2 - Shopee Product Matching/train.csv')\n",
    "# Considering label_group as ground truth.\n",
    "train['targets'] = train['label_group'].map(train.groupby(['label_group'])['posting_id'].unique().to_dict())\n",
    "train['preprocessed_title']=train.title.map(preprocess)\n",
    "print(train.shape)\n",
    "train.head()"
   ]
  },
  {
   "cell_type": "markdown",
   "metadata": {
    "id": "1XdlhsbX9SHT"
   },
   "source": [
    "# **1. Using IDF for embedding**"
   ]
  },
  {
   "cell_type": "code",
   "execution_count": null,
   "metadata": {
    "colab": {
     "base_uri": "https://localhost:8080/"
    },
    "id": "poEPoAlF9dIi",
    "outputId": "23a478ba-4cba-4817-de7c-89a072b3af65"
   },
   "outputs": [
    {
     "name": "stdout",
     "output_type": "stream",
     "text": [
      "(34250, 25023)\n"
     ]
    }
   ],
   "source": [
    "idf=TfidfVectorizer(binary=True)\n",
    "embedded_train_idf=idf.fit_transform(train.preprocessed_title.values)\n",
    "print(embedded_train_idf.shape)"
   ]
  },
  {
   "cell_type": "code",
   "execution_count": null,
   "metadata": {
    "colab": {
     "base_uri": "https://localhost:8080/"
    },
    "id": "DH1kDZ_n-SFv",
    "outputId": "f76f937e-7cd3-478b-d447-e57b854c3389"
   },
   "outputs": [
    {
     "data": {
      "text/plain": [
       "(34250, 34250)"
      ]
     },
     "execution_count": 17,
     "metadata": {
      "tags": []
     },
     "output_type": "execute_result"
    }
   ],
   "source": [
    "idf_dot_prods=np.dot(embedded_train_idf,np.transpose(embedded_train_idf))\n",
    "idf_dot_prods.shape"
   ]
  },
  {
   "cell_type": "code",
   "execution_count": null,
   "metadata": {
    "colab": {
     "base_uri": "https://localhost:8080/"
    },
    "id": "19IwlHBpAMZO",
    "outputId": "552721e8-e15f-4de8-eb0b-d124813439d8"
   },
   "outputs": [
    {
     "name": "stdout",
     "output_type": "stream",
     "text": [
      "f1_score with cosine similarity threshold as 0.5 is 0.6591442130345908\n",
      "f1_score with cosine similarity threshold as 0.55 is 0.6610173701316998\n",
      "f1_score with cosine similarity threshold as 0.6 is 0.6505642207941018\n",
      "f1_score with cosine similarity threshold as 0.65 is 0.633705936355463\n",
      "f1_score with cosine similarity threshold as 0.7 is 0.6136449739313565\n",
      "f1_score with cosine similarity threshold as 0.75 is 0.5906088014614402\n",
      "f1_score with cosine similarity threshold as 0.8 is 0.5671080844917606\n",
      "f1_score with cosine similarity threshold as 0.85 is 0.5425419274920465\n"
     ]
    }
   ],
   "source": [
    "for cosine_threshold in [0.5,0.55,0.6,0.65,0.7,0.75,0.8,0.85]:\n",
    "    idf_matches=[]\n",
    "    for per_posting in idf_dot_prods:\n",
    "        indices=np.where(per_posting.toarray()>=cosine_threshold)[1]\n",
    "        idf_matches.append(train.iloc[indices].posting_id.values.tolist())\n",
    "    print('f1_score with cosine similarity threshold as {} is {}'.format(cosine_threshold, f1_score(train.targets.values,idf_matches)))"
   ]
  },
  {
   "cell_type": "markdown",
   "metadata": {
    "id": "LOLBer3FEoak"
   },
   "source": [
    "### **Optimum threshold we observed with training data:** 0.55\n",
    "### **Submission score with 0.55 as threshold: 0.6 (https://www.kaggle.com/chaitanyaboyalla/text-idf-0-55-cossim-threshold)**\n",
    "### **Submission score with 0.6 as threshold: 0.604 (https://www.kaggle.com/chaitanyaboyalla/text-idf-0-6-cossim-threshold)**\n"
   ]
  },
  {
   "cell_type": "markdown",
   "metadata": {
    "id": "YUQpCcHfFimZ"
   },
   "source": [
    "# **2. Using TFIDF for embedding:**"
   ]
  },
  {
   "cell_type": "code",
   "execution_count": null,
   "metadata": {
    "colab": {
     "base_uri": "https://localhost:8080/"
    },
    "id": "6SjtDOKwC1PI",
    "outputId": "e8a48e9e-6791-40e8-f56f-834bb056a41c"
   },
   "outputs": [
    {
     "name": "stdout",
     "output_type": "stream",
     "text": [
      "(34250, 25023)\n"
     ]
    }
   ],
   "source": [
    "tfidf=TfidfVectorizer(binary=False)\n",
    "embedded_train_tfidf=tfidf.fit_transform(train.preprocessed_title.values)\n",
    "print(embedded_train_tfidf.shape)"
   ]
  },
  {
   "cell_type": "code",
   "execution_count": null,
   "metadata": {
    "colab": {
     "base_uri": "https://localhost:8080/"
    },
    "id": "2HIJyo5TF1Uu",
    "outputId": "57eb9d97-2e76-405e-e70a-54498a74dbf3"
   },
   "outputs": [
    {
     "data": {
      "text/plain": [
       "(34250, 34250)"
      ]
     },
     "execution_count": 6,
     "metadata": {
      "tags": []
     },
     "output_type": "execute_result"
    }
   ],
   "source": [
    "tfidf_dot_prods=np.dot(embedded_train_tfidf,np.transpose(embedded_train_tfidf))\n",
    "tfidf_dot_prods.shape"
   ]
  },
  {
   "cell_type": "code",
   "execution_count": null,
   "metadata": {
    "colab": {
     "base_uri": "https://localhost:8080/"
    },
    "id": "OiY8q7V6F1cr",
    "outputId": "a12aadd5-2e2e-46af-9d30-a296e06eae0f"
   },
   "outputs": [
    {
     "name": "stdout",
     "output_type": "stream",
     "text": [
      "f1_score with cosine similarity threshold as 0.5 is 0.6375813106914594\n",
      "f1_score with cosine similarity threshold as 0.55 is 0.6487080695285977\n",
      "f1_score with cosine similarity threshold as 0.6 is 0.6451761830928651\n",
      "f1_score with cosine similarity threshold as 0.65 is 0.6342258832403423\n",
      "f1_score with cosine similarity threshold as 0.7 is 0.6172896731799803\n",
      "f1_score with cosine similarity threshold as 0.75 is 0.5951305645519992\n",
      "f1_score with cosine similarity threshold as 0.8 is 0.5709258525462582\n",
      "f1_score with cosine similarity threshold as 0.85 is 0.5459191166571772\n"
     ]
    }
   ],
   "source": [
    "for cosine_threshold in [0.5,0.55,0.6,0.65,0.7,0.75,0.8,0.85]:\n",
    "    tfidf_matches=[]\n",
    "    for per_posting in tfidf_dot_prods:\n",
    "        indices=np.where(per_posting.toarray()>=cosine_threshold)[1]\n",
    "        tfidf_matches.append(train.iloc[indices].posting_id.values.tolist())\n",
    "    print('f1_score with cosine similarity threshold as {} is {}'.format(cosine_threshold, f1_score(train.targets.values,tfidf_matches)))"
   ]
  },
  {
   "cell_type": "markdown",
   "metadata": {
    "id": "40CNhYrtGj3f"
   },
   "source": [
    "### **Optimum threshold we observed with training data:** 0.55\n",
    "### **Submission score with 0.55 as threshold: 0.581 (https://www.kaggle.com/chaitanyaboyalla/text-tfidf-0-55-cossim-threshold)**\n",
    "### **Submission score with 0.65 as threshold: 0.595 (https://www.kaggle.com/chaitanyaboyalla/text-tfidf-0-65-cossim-threshold):**"
   ]
  },
  {
   "cell_type": "markdown",
   "metadata": {
    "id": "utFijzBmGu8H"
   },
   "source": [
    "# **3. Average W2V(Glove) embedding**"
   ]
  },
  {
   "cell_type": "code",
   "execution_count": null,
   "metadata": {
    "colab": {
     "base_uri": "https://localhost:8080/"
    },
    "id": "SKzgWqH5F1k6",
    "outputId": "da92d778-91c1-4a87-a94a-82ebc93f2a7d"
   },
   "outputs": [
    {
     "name": "stderr",
     "output_type": "stream",
     "text": [
      "400000it [00:11, 34805.12it/s]\n"
     ]
    }
   ],
   "source": [
    "glove_vectors={}\n",
    "with io.open('/content/drive/MyDrive/Colab Notebooks/Case Study 2 - Shopee Product Matching/glove.6B.100d.txt', encoding='utf8') as f:\n",
    "    for line in tqdm(f):\n",
    "        values = line.split()\n",
    "        word = values[0]\n",
    "        coefs = np.asarray(values[1:],dtype='float32')\n",
    "        glove_vectors[word] = coefs"
   ]
  },
  {
   "cell_type": "markdown",
   "metadata": {
    "id": "BeKNN0UdJ0xQ"
   },
   "source": [
    "### **For what percentage of words in train we have glove vectors?**\n",
    "### **45.7%**"
   ]
  },
  {
   "cell_type": "code",
   "execution_count": null,
   "metadata": {
    "colab": {
     "base_uri": "https://localhost:8080/"
    },
    "id": "Jm4Xa9b2KOwC",
    "outputId": "baa158f6-df16-4a47-ecfa-3cc2df8dd23b"
   },
   "outputs": [
    {
     "name": "stdout",
     "output_type": "stream",
     "text": [
      "Percentage of unique words in train have glove vectors: 45.68596890860409\n"
     ]
    }
   ],
   "source": [
    "print('Percentage of unique words in train have glove vectors: {}'.format(len(set([i for i in tfidf.vocabulary_.keys()]).intersection(set([i for i in glove_vectors.keys()])))/len(tfidf.vocabulary_.keys())*100))"
   ]
  },
  {
   "cell_type": "code",
   "execution_count": null,
   "metadata": {
    "colab": {
     "base_uri": "https://localhost:8080/"
    },
    "id": "XzZs_6HLKO1V",
    "outputId": "d6dc13ad-86a1-4d9e-c5f2-884009f2fdb1"
   },
   "outputs": [
    {
     "data": {
      "text/plain": [
       "(34250, 100)"
      ]
     },
     "execution_count": 6,
     "metadata": {
      "tags": []
     },
     "output_type": "execute_result"
    }
   ],
   "source": [
    "avg_w2v_embedding_train=[]\n",
    "glove_keys=glove_vectors.keys()\n",
    "for title in train.preprocessed_title.values:\n",
    "    embed=np.zeros(100)\n",
    "    for word in title.split():\n",
    "        if word in glove_keys:\n",
    "            embed+=glove_vectors[word]\n",
    "    avg_w2v_embedding_train.append(embed/len(title.split()))\n",
    "    \n",
    "# Making vectors as unit vectors to make Cosine Similarity between -1 and 1.\n",
    "avg_w2v_embedding_train=np.array([i/np.linalg.norm(i) if np.linalg.norm(i)!=0 else i  for i in avg_w2v_embedding_train])\n",
    "avg_w2v_embedding_train.shape"
   ]
  },
  {
   "cell_type": "code",
   "execution_count": null,
   "metadata": {
    "colab": {
     "base_uri": "https://localhost:8080/"
    },
    "id": "meEUtbvKOPv9",
    "outputId": "80c35147-c46b-4998-c67b-4b9befdc9f1e"
   },
   "outputs": [
    {
     "data": {
      "text/plain": [
       "55"
      ]
     },
     "execution_count": 7,
     "metadata": {
      "tags": []
     },
     "output_type": "execute_result"
    }
   ],
   "source": [
    "del glove_vectors\n",
    "gc.collect()"
   ]
  },
  {
   "cell_type": "markdown",
   "metadata": {
    "id": "bh4g6YYCNHUU"
   },
   "source": [
    "### **3.1 Using Cosine Similarity**"
   ]
  },
  {
   "cell_type": "code",
   "execution_count": null,
   "metadata": {
    "colab": {
     "base_uri": "https://localhost:8080/"
    },
    "id": "FhP8TKnCNUUG",
    "outputId": "a3344b78-5878-487d-f360-81620cbe6f0b"
   },
   "outputs": [
    {
     "name": "stdout",
     "output_type": "stream",
     "text": [
      "f1_score with cosine similarity threshold as 0.75 is 0.34593467110907083\n",
      "f1_score with cosine similarity threshold as 0.8 is 0.4370897703028301\n",
      "f1_score with cosine similarity threshold as 0.85 is 0.5113432640039846\n",
      "f1_score with cosine similarity threshold as 0.9 is 0.539148438965691\n",
      "f1_score with cosine similarity threshold as 0.95 is 0.5225376738640952\n"
     ]
    }
   ],
   "source": [
    "chunksize=1024\n",
    "chunks=len(train)//chunksize if len(train)%chunksize==0 else (len(train)//chunksize)+1\n",
    "for cosine_threshold in [0.75,0.8,0.85,0.9,0.95]:\n",
    "    avg_w2v_matches=[]\n",
    "    for chunk in range(chunks):\n",
    "        start=chunk*chunksize\n",
    "        end=min(len(train), start+chunksize)\n",
    "        chunk_dot=np.dot(avg_w2v_embedding_train[start:end], np.transpose(avg_w2v_embedding_train))\n",
    "        for per_posting in chunk_dot:\n",
    "            indices=np.where(per_posting>=cosine_threshold)[0]\n",
    "            avg_w2v_matches.append(train.iloc[indices].posting_id.values.tolist())\n",
    "    print('f1_score with cosine similarity threshold as {} is {}'.format(cosine_threshold, f1_score(train.targets.values,avg_w2v_matches)))"
   ]
  },
  {
   "cell_type": "markdown",
   "metadata": {
    "id": "0YGceQWbjXR2"
   },
   "source": [
    "### **Optimum threshold we observed with training data:** 0.9"
   ]
  },
  {
   "cell_type": "markdown",
   "metadata": {
    "id": "V4zYG5oYjb7q"
   },
   "source": [
    "### **3.2 Using Euclidean Distance**"
   ]
  },
  {
   "cell_type": "code",
   "execution_count": null,
   "metadata": {
    "colab": {
     "base_uri": "https://localhost:8080/"
    },
    "id": "6qy9wZKMjkYN",
    "outputId": "5f6c8ab8-72e7-48f5-e863-a68e2d433f6d"
   },
   "outputs": [
    {
     "data": {
      "text/plain": [
       "NearestNeighbors(algorithm='auto', leaf_size=30, metric='minkowski',\n",
       "                 metric_params=None, n_jobs=None, n_neighbors=50, p=2,\n",
       "                 radius=1.0)"
      ]
     },
     "execution_count": 8,
     "metadata": {
      "tags": []
     },
     "output_type": "execute_result"
    }
   ],
   "source": [
    "nn=NearestNeighbors(n_neighbors=50, metric='minkowski', p=2) \n",
    "# p=2 --> Euclidean Distance\n",
    "# n_neighbors=50 because kaggle doesn't consider more than 50 matches for a posting in this competition\n",
    "nn.fit(avg_w2v_embedding_train)"
   ]
  },
  {
   "cell_type": "code",
   "execution_count": null,
   "metadata": {
    "colab": {
     "base_uri": "https://localhost:8080/"
    },
    "id": "twL4ZUjvjkhY",
    "outputId": "89ff6c7f-7eb5-40b5-c8fd-a36b4b72491f"
   },
   "outputs": [
    {
     "name": "stdout",
     "output_type": "stream",
     "text": [
      "f1_score with euclidean distance threshold as 0.3 is 0.5189741717196286\n",
      "f1_score with euclidean distance threshold as 0.35 is 0.528924962967108\n",
      "f1_score with euclidean distance threshold as 0.4 is 0.5366463865762149\n",
      "f1_score with euclidean distance threshold as 0.45 is 0.5391629001679218\n",
      "f1_score with euclidean distance threshold as 0.5 is 0.5319605499969092\n",
      "f1_score with euclidean distance threshold as 0.55 is 0.5113577696334852\n"
     ]
    }
   ],
   "source": [
    "chunksize=4096\n",
    "chunks=len(train)//chunksize if len(train)%chunksize==0 else (len(train)//chunksize)+1\n",
    "for euclidean_threshold in [0.3,0.35,0.4,0.45,0.5,0.55]:\n",
    "    avg_w2v_matches=[]\n",
    "    for chunk in range(chunks):\n",
    "        start=chunk*chunksize\n",
    "        end=min(len(train), start+chunksize)\n",
    "        distances,indices=nn.kneighbors(avg_w2v_embedding_train[start:end,])\n",
    "        for i,per_posting in enumerate(distances):\n",
    "            ind=np.where(per_posting<=euclidean_threshold)[0]\n",
    "            post_indices=indices[i,ind]\n",
    "            avg_w2v_matches.append(train.iloc[post_indices].posting_id.values.tolist())\n",
    "    print('f1_score with euclidean distance threshold as {} is {}'.format(euclidean_threshold, f1_score(train.targets.values,avg_w2v_matches)))"
   ]
  },
  {
   "cell_type": "markdown",
   "metadata": {
    "id": "bO6AFQR_9eo_"
   },
   "source": [
    "### **Optimum threshold we observed with training data:** 0.45"
   ]
  },
  {
   "cell_type": "markdown",
   "metadata": {
    "id": "rn0np9n69hKC"
   },
   "source": [
    "# **4. IDF Weighted W2V(Glove) embedding**"
   ]
  },
  {
   "cell_type": "code",
   "execution_count": null,
   "metadata": {
    "id": "nEFFGp6IKS5o"
   },
   "outputs": [],
   "source": [
    "key_idf=dict(zip([i for i in idf.vocabulary_.keys()], idf.idf_.tolist()))"
   ]
  },
  {
   "cell_type": "code",
   "execution_count": null,
   "metadata": {
    "colab": {
     "base_uri": "https://localhost:8080/"
    },
    "id": "0cf7hwm29gFk",
    "outputId": "783cf2e9-4d31-4aea-cddc-d879f1bb1ed2"
   },
   "outputs": [
    {
     "data": {
      "text/plain": [
       "(34250, 100)"
      ]
     },
     "execution_count": 17,
     "metadata": {
      "tags": []
     },
     "output_type": "execute_result"
    }
   ],
   "source": [
    "idf_w2v_embedding_train=[]\n",
    "glove_keys=glove_vectors.keys()\n",
    "idf_keys=key_idf.keys()\n",
    "for title in train.preprocessed_title.values:\n",
    "    embed=np.zeros(100)\n",
    "    idf=0\n",
    "    for word in title.split():\n",
    "        if word in glove_keys and word in idf_keys:\n",
    "            embed+=(glove_vectors[word]*key_idf[word])\n",
    "            idf+=key_idf[word]\n",
    "    if idf==0:\n",
    "        idf_w2v_embedding_train.append(embed)\n",
    "    else:\n",
    "        idf_w2v_embedding_train.append(embed/idf)\n",
    "# Making vectors as unit vectors \n",
    "idf_w2v_embedding_train=np.array([i/np.linalg.norm(i) if np.linalg.norm(i)!=0 else i  for i in idf_w2v_embedding_train])\n",
    "idf_w2v_embedding_train.shape"
   ]
  },
  {
   "cell_type": "code",
   "execution_count": null,
   "metadata": {
    "colab": {
     "base_uri": "https://localhost:8080/"
    },
    "id": "wUNocLweL6Zf",
    "outputId": "7f478b8a-3093-4e96-cca9-1c11cbdaae4f"
   },
   "outputs": [
    {
     "data": {
      "text/plain": [
       "320"
      ]
     },
     "execution_count": 21,
     "metadata": {
      "tags": []
     },
     "output_type": "execute_result"
    }
   ],
   "source": [
    "del glove_vectors\n",
    "gc.collect()"
   ]
  },
  {
   "cell_type": "markdown",
   "metadata": {
    "id": "bPOlDgQeL775"
   },
   "source": [
    "### **4.1 Using Cosine Similarity**"
   ]
  },
  {
   "cell_type": "code",
   "execution_count": null,
   "metadata": {
    "colab": {
     "base_uri": "https://localhost:8080/"
    },
    "id": "W0LMOiLWMCAH",
    "outputId": "cfdd5f24-1ce7-4efe-e031-58741ed6c80f"
   },
   "outputs": [
    {
     "name": "stdout",
     "output_type": "stream",
     "text": [
      "f1_score with cosine similarity threshold as 0.75 is 0.3762124665421107\n",
      "f1_score with cosine similarity threshold as 0.8 is 0.46568462474382355\n",
      "f1_score with cosine similarity threshold as 0.85 is 0.5290880161887223\n",
      "f1_score with cosine similarity threshold as 0.9 is 0.5443407073918521\n",
      "f1_score with cosine similarity threshold as 0.95 is 0.5213841710960228\n"
     ]
    }
   ],
   "source": [
    "chunksize=2048\n",
    "chunks=len(train)//chunksize if len(train)%chunksize==0 else (len(train)//chunksize)+1\n",
    "for cosine_threshold in [0.75,0.8,0.85,0.9,0.95]:\n",
    "    idf_w2v_matches=[]\n",
    "    for chunk in range(chunks):\n",
    "        start=chunk*chunksize\n",
    "        end=min(len(train), start+chunksize)\n",
    "        chunk_dot=np.dot(idf_w2v_embedding_train[start:end], np.transpose(idf_w2v_embedding_train))\n",
    "        for per_posting in chunk_dot:\n",
    "            indices=np.where(per_posting>=cosine_threshold)[0]\n",
    "            idf_w2v_matches.append(train.iloc[indices].posting_id.values.tolist())\n",
    "    print('f1_score with cosine similarity threshold as {} is {}'.format(cosine_threshold, f1_score(train.targets.values,idf_w2v_matches)))"
   ]
  },
  {
   "cell_type": "markdown",
   "metadata": {
    "id": "us_iYRrFMccR"
   },
   "source": [
    "### **Optimum threshold we observed with training data:** 0.9"
   ]
  },
  {
   "cell_type": "markdown",
   "metadata": {
    "id": "Cn9sqRYdMffM"
   },
   "source": [
    "### **4.2 Using Euclidean Distance**"
   ]
  },
  {
   "cell_type": "code",
   "execution_count": null,
   "metadata": {
    "colab": {
     "base_uri": "https://localhost:8080/"
    },
    "id": "OhzFNIzNMCNw",
    "outputId": "f1fd3e16-1c34-4b35-d5b3-8e65532922e3"
   },
   "outputs": [
    {
     "data": {
      "text/plain": [
       "NearestNeighbors(algorithm='auto', leaf_size=30, metric='minkowski',\n",
       "                 metric_params=None, n_jobs=None, n_neighbors=50, p=2,\n",
       "                 radius=1.0)"
      ]
     },
     "execution_count": 23,
     "metadata": {
      "tags": []
     },
     "output_type": "execute_result"
    }
   ],
   "source": [
    "nn=NearestNeighbors(n_neighbors=50, metric='minkowski', p=2) \n",
    "# p=2 --> Euclidean Distance\n",
    "# n_neighbors=50 because kaggle doesn't consider more than 50 matches for a posting in this competition\n",
    "nn.fit(idf_w2v_embedding_train)"
   ]
  },
  {
   "cell_type": "code",
   "execution_count": null,
   "metadata": {
    "colab": {
     "background_save": true,
     "base_uri": "https://localhost:8080/"
    },
    "id": "O0HJ5HM5Mst1",
    "outputId": "bcb6c728-9084-43ad-c25c-ce65f6c131f1"
   },
   "outputs": [
    {
     "name": "stdout",
     "output_type": "stream",
     "text": [
      "f1_score with euclidean distance threshold as 0.3 is 0.5180716382969818\n",
      "f1_score with euclidean distance threshold as 0.35 is 0.5282611451040751\n",
      "f1_score with euclidean distance threshold as 0.4 is 0.5386567265392446\n",
      "f1_score with euclidean distance threshold as 0.45 is 0.5446161552539963\n",
      "f1_score with euclidean distance threshold as 0.5 is 0.5441255865579522\n",
      "f1_score with euclidean distance threshold as 0.55 is 0.5280174985016552\n"
     ]
    }
   ],
   "source": [
    "chunksize=4096\n",
    "chunks=len(train)//chunksize if len(train)%chunksize==0 else (len(train)//chunksize)+1\n",
    "for euclidean_threshold in [0.3,0.35,0.4,0.45,0.5,0.55]:\n",
    "    idf_w2v_matches=[]\n",
    "    for chunk in range(chunks):\n",
    "        start=chunk*chunksize\n",
    "        end=min(len(train), start+chunksize)\n",
    "        distances,indices=nn.kneighbors(idf_w2v_embedding_train[start:end,])\n",
    "        for i,per_posting in enumerate(distances):\n",
    "            ind=np.where(per_posting<=euclidean_threshold)[0]\n",
    "            post_indices=indices[i,ind]\n",
    "            idf_w2v_matches.append(train.iloc[post_indices].posting_id.values.tolist())\n",
    "    print('f1_score with euclidean distance threshold as {} is {}'.format(euclidean_threshold, f1_score(train.targets.values,idf_w2v_matches)))"
   ]
  },
  {
   "cell_type": "markdown",
   "metadata": {
    "id": "TKxvbjcyMtbw"
   },
   "source": [
    "### **Optimum threshold we observed with training data:** 0.45"
   ]
  },
  {
   "cell_type": "markdown",
   "metadata": {
    "id": "W974sDGMNLOM"
   },
   "source": [
    "# **5. TFIDF Weighted W2V(Glove) embedding**"
   ]
  },
  {
   "cell_type": "code",
   "execution_count": null,
   "metadata": {
    "colab": {
     "base_uri": "https://localhost:8080/"
    },
    "id": "-3CBi-4oNRrn",
    "outputId": "0fc023cb-ec3c-4ef9-c049-3ad1c5bfffe9"
   },
   "outputs": [
    {
     "data": {
      "text/plain": [
       "(34250, 100)"
      ]
     },
     "execution_count": 8,
     "metadata": {
      "tags": []
     },
     "output_type": "execute_result"
    }
   ],
   "source": [
    "tfidf_w2v_embedding_train=[]\n",
    "glove_keys=glove_vectors.keys()\n",
    "idf_keys=key_idf.keys()\n",
    "for title in train.preprocessed_title.values:\n",
    "    embed=np.zeros(100)\n",
    "    tfidf=0\n",
    "    for word in title.split():\n",
    "        if word in glove_keys and word in idf_keys:\n",
    "            tf=title.split().count(word)\n",
    "            embed+=(glove_vectors[word]*(key_idf[word]*tf))\n",
    "            tfidf+=(key_idf[word]*tf)\n",
    "    if tfidf==0:\n",
    "        tfidf_w2v_embedding_train.append(embed)\n",
    "    else:\n",
    "        tfidf_w2v_embedding_train.append(embed/tfidf)\n",
    "# Making vectors as unit vectors \n",
    "tfidf_w2v_embedding_train=np.array([i/np.linalg.norm(i) if np.linalg.norm(i)!=0 else i  for i in tfidf_w2v_embedding_train])\n",
    "tfidf_w2v_embedding_train.shape"
   ]
  },
  {
   "cell_type": "code",
   "execution_count": null,
   "metadata": {
    "colab": {
     "base_uri": "https://localhost:8080/"
    },
    "id": "yUOrtxuePUtI",
    "outputId": "c56f9410-bf85-41ff-cddf-121bda499833"
   },
   "outputs": [
    {
     "data": {
      "text/plain": [
       "149"
      ]
     },
     "execution_count": 9,
     "metadata": {
      "tags": []
     },
     "output_type": "execute_result"
    }
   ],
   "source": [
    "del glove_vectors\n",
    "gc.collect()"
   ]
  },
  {
   "cell_type": "markdown",
   "metadata": {
    "id": "ErS61uHvPYR8"
   },
   "source": [
    "### **5.1 Using Cosine Similarity**"
   ]
  },
  {
   "cell_type": "code",
   "execution_count": null,
   "metadata": {
    "colab": {
     "base_uri": "https://localhost:8080/"
    },
    "id": "JTf52ah-Pc1b",
    "outputId": "ba6beece-42ff-4a06-84de-0ce6d8e219a1"
   },
   "outputs": [
    {
     "name": "stdout",
     "output_type": "stream",
     "text": [
      "f1_score with cosine similarity threshold as 0.75 is 0.3509735175466267\n",
      "f1_score with cosine similarity threshold as 0.8 is 0.4321380043493437\n",
      "f1_score with cosine similarity threshold as 0.85 is 0.49327091382413263\n",
      "f1_score with cosine similarity threshold as 0.9 is 0.5175081879510399\n",
      "f1_score with cosine similarity threshold as 0.95 is 0.5116941491678668\n"
     ]
    }
   ],
   "source": [
    "chunksize=2048\n",
    "chunks=len(train)//chunksize if len(train)%chunksize==0 else (len(train)//chunksize)+1\n",
    "for cosine_threshold in [0.75,0.8,0.85,0.9,0.95]:\n",
    "    tfidf_w2v_matches=[]\n",
    "    for chunk in range(chunks):\n",
    "        start=chunk*chunksize\n",
    "        end=min(len(train), start+chunksize)\n",
    "        chunk_dot=np.dot(tfidf_w2v_embedding_train[start:end], np.transpose(tfidf_w2v_embedding_train))\n",
    "        for per_posting in chunk_dot:\n",
    "            indices=np.where(per_posting>=cosine_threshold)[0]\n",
    "            tfidf_w2v_matches.append(train.iloc[indices].posting_id.values.tolist())\n",
    "    print('f1_score with cosine similarity threshold as {} is {}'.format(cosine_threshold, f1_score(train.targets.values,tfidf_w2v_matches)))"
   ]
  },
  {
   "cell_type": "markdown",
   "metadata": {
    "id": "oc1i3lorPkLr"
   },
   "source": [
    "### **Optimum threshold we observed with training data:** 0.9"
   ]
  },
  {
   "cell_type": "markdown",
   "metadata": {
    "id": "cDRCpf05PdUV"
   },
   "source": [
    "### **5.2 Using Euclidean Distance**"
   ]
  },
  {
   "cell_type": "code",
   "execution_count": null,
   "metadata": {
    "colab": {
     "base_uri": "https://localhost:8080/"
    },
    "id": "Q9Z8L0MiPi3h",
    "outputId": "9c735be1-9df7-46fe-a817-b5743abde8d8"
   },
   "outputs": [
    {
     "data": {
      "text/plain": [
       "NearestNeighbors(algorithm='auto', leaf_size=30, metric='minkowski',\n",
       "                 metric_params=None, n_jobs=None, n_neighbors=50, p=2,\n",
       "                 radius=1.0)"
      ]
     },
     "execution_count": 11,
     "metadata": {
      "tags": []
     },
     "output_type": "execute_result"
    }
   ],
   "source": [
    "nn=NearestNeighbors(n_neighbors=50, metric='minkowski', p=2) \n",
    "# p=2 --> Euclidean Distance\n",
    "# n_neighbors=50 because kaggle doesn't consider more than 50 matches for a posting in this competition\n",
    "nn.fit(tfidf_w2v_embedding_train)"
   ]
  },
  {
   "cell_type": "code",
   "execution_count": null,
   "metadata": {
    "colab": {
     "base_uri": "https://localhost:8080/"
    },
    "id": "dUJsR4TAPjDY",
    "outputId": "1a3a9e0d-b99a-4833-d6aa-6ee78e377e0c"
   },
   "outputs": [
    {
     "name": "stdout",
     "output_type": "stream",
     "text": [
      "f1_score with euclidean distance threshold as 0.3 is 0.5104626522201654\n",
      "f1_score with euclidean distance threshold as 0.35 is 0.5145884585535\n",
      "f1_score with euclidean distance threshold as 0.4 is 0.518118131524296\n",
      "f1_score with euclidean distance threshold as 0.45 is 0.5175630886570123\n",
      "f1_score with euclidean distance threshold as 0.5 is 0.510911106475017\n",
      "f1_score with euclidean distance threshold as 0.55 is 0.492469717197438\n"
     ]
    }
   ],
   "source": [
    "chunksize=4096\n",
    "chunks=len(train)//chunksize if len(train)%chunksize==0 else (len(train)//chunksize)+1\n",
    "for euclidean_threshold in [0.3,0.35,0.4,0.45,0.5,0.55]:\n",
    "    tfidf_w2v_matches=[]\n",
    "    for chunk in range(chunks):\n",
    "        start=chunk*chunksize\n",
    "        end=min(len(train), start+chunksize)\n",
    "        distances,indices=nn.kneighbors(tfidf_w2v_embedding_train[start:end,])\n",
    "        for i,per_posting in enumerate(distances):\n",
    "            ind=np.where(per_posting<=euclidean_threshold)[0]\n",
    "            post_indices=indices[i,ind]\n",
    "            tfidf_w2v_matches.append(train.iloc[post_indices].posting_id.values.tolist())\n",
    "    print('f1_score with euclidean distance threshold as {} is {}'.format(euclidean_threshold, f1_score(train.targets.values,tfidf_w2v_matches)))"
   ]
  },
  {
   "cell_type": "markdown",
   "metadata": {
    "id": "7OH1gZ22Pjii"
   },
   "source": [
    "### **Optimum threshold we observed with training data:** 0.4"
   ]
  },
  {
   "cell_type": "markdown",
   "metadata": {
    "id": "RJHhxgKVdGs6"
   },
   "source": [
    "# **6. BERT Embeddings**"
   ]
  },
  {
   "cell_type": "markdown",
   "metadata": {
    "id": "hqqn4OMYuXF4"
   },
   "source": [
    "### *Used Applied AI Course BERT assignment I did for reference*"
   ]
  },
  {
   "cell_type": "code",
   "execution_count": null,
   "metadata": {
    "colab": {
     "base_uri": "https://localhost:8080/"
    },
    "id": "I0z3jBhYdNmt",
    "outputId": "55c48ba9-6bbf-4d08-eb8e-05eee0c01395"
   },
   "outputs": [
    {
     "name": "stdout",
     "output_type": "stream",
     "text": [
      "1 percentile: 2.0\n",
      "5 percentile: 4.0\n",
      "10 percentile: 4.0\n",
      "25 percentile: 6.0\n",
      "50 percentile: 9.0\n",
      "75 percentile: 12.0\n",
      "90 percentile: 15.0\n",
      "95 percentile: 16.0\n",
      "99 percentile: 21.0\n",
      "100 percentile: 82.0\n"
     ]
    }
   ],
   "source": [
    "title_lenghts=[len(i.split()) for i in train.preprocessed_title.values]\n",
    "for percentile in [1,5,10,25,50,75,90,95,99,100]:    \n",
    "    print('{} percentile: {}'.format(percentile, np.percentile(title_lenghts, percentile)))"
   ]
  },
  {
   "cell_type": "code",
   "execution_count": null,
   "metadata": {
    "colab": {
     "base_uri": "https://localhost:8080/"
    },
    "id": "Tj_2zXgzdNt1",
    "outputId": "76a2e3a9-3fc7-4435-fb8b-556c0656e7a9"
   },
   "outputs": [
    {
     "name": "stdout",
     "output_type": "stream",
     "text": [
      "Model: \"model\"\n",
      "__________________________________________________________________________________________________\n",
      "Layer (type)                    Output Shape         Param #     Connected to                     \n",
      "==================================================================================================\n",
      "input_word_ids (InputLayer)     [(None, 84)]         0                                            \n",
      "__________________________________________________________________________________________________\n",
      "input_mask (InputLayer)         [(None, 84)]         0                                            \n",
      "__________________________________________________________________________________________________\n",
      "segment_ids (InputLayer)        [(None, 84)]         0                                            \n",
      "__________________________________________________________________________________________________\n",
      "keras_layer (KerasLayer)        [(None, 768), (None, 109482241   input_word_ids[0][0]             \n",
      "                                                                 input_mask[0][0]                 \n",
      "                                                                 segment_ids[0][0]                \n",
      "==================================================================================================\n",
      "Total params: 109,482,241\n",
      "Trainable params: 0\n",
      "Non-trainable params: 109,482,241\n",
      "__________________________________________________________________________________________________\n"
     ]
    }
   ],
   "source": [
    "# Reference from AAIC BERT assignment I did\n",
    "\n",
    "tf.keras.backend.clear_session()\n",
    " \n",
    "# 100 percentile (to not miss out anything)\n",
    "max_seq_length = 82+2 ## +2 along with ['CLS'] and ['SEP']\n",
    " \n",
    "#BERT takes 3 inputs\n",
    " \n",
    "#this is input words. Sequence of words represented as integers\n",
    "input_word_ids = tf.keras.layers.Input(shape=(max_seq_length,), dtype=tf.int32, name=\"input_word_ids\")\n",
    " \n",
    "#mask vector if you are padding anything\n",
    "input_mask = tf.keras.layers.Input(shape=(max_seq_length,), dtype=tf.int32, name=\"input_mask\")\n",
    " \n",
    "#segment vectors. If you are giving only one sentence for the classification, total seg vector is 0. \n",
    "#If you are giving two sentenced with [sep] token separated, first seq segment vectors are zeros and \n",
    "#second seq segment vector are 1's\n",
    "segment_ids = tf.keras.layers.Input(shape=(max_seq_length,), dtype=tf.int32, name=\"segment_ids\")\n",
    " \n",
    "#bert layer \n",
    "bert_layer = hub.KerasLayer(\"https://tfhub.dev/tensorflow/bert_en_uncased_L-12_H-768_A-12/1\", trainable=False)\n",
    "pooled_output, sequence_output = bert_layer([input_word_ids, input_mask, segment_ids])\n",
    " \n",
    "#Bert model\n",
    "#We are using only pooled output not sequence out. \n",
    "#If you want to know about those, please read https://www.kaggle.com/questions-and-answers/86510\n",
    "bert_model = tf.keras.models.Model(inputs=[input_word_ids, input_mask, segment_ids], outputs=pooled_output)\n",
    "\n",
    "bert_model.summary()"
   ]
  },
  {
   "cell_type": "code",
   "execution_count": null,
   "metadata": {
    "colab": {
     "base_uri": "https://localhost:8080/",
     "height": 201
    },
    "id": "3FD9ag-tZO1N",
    "outputId": "1abd18f7-dc39-4561-eb57-13427b6958c8"
   },
   "outputs": [
    {
     "data": {
      "image/png": "[encoded data removed]",
      "text/plain": [
       "<IPython.core.display.Image object>"
      ]
     },
     "execution_count": 8,
     "metadata": {
      "tags": []
     },
     "output_type": "execute_result"
    }
   ],
   "source": [
    "tf.keras.utils.plot_model(bert_model, show_shapes=True)"
   ]
  },
  {
   "cell_type": "code",
   "execution_count": 5,
   "metadata": {
    "id": "_aNje4bIaKw4"
   },
   "outputs": [],
   "source": [
    "bert_layer = hub.KerasLayer(\"/content/drive/MyDrive/Colab Notebooks/Case Study 2 - Shopee Product Matching/bert_en_uncased_L-24_H-1024_A-16_1\", trainable=True)\n",
    "\n",
    "# This BERT is used for ArcFace training\n",
    "# Tried with smaller BERT(less param) below but the result is not desirable during ArcFace training\n",
    "#bert_layer = hub.KerasLayer(\"https://tfhub.dev/tensorflow/bert_en_uncased_L-12_H-768_A-12/1\", trainable=True)\n",
    "\n",
    "vocab_file = bert_layer.resolved_object.vocab_file.asset_path.numpy()\n",
    "do_lower_case = bert_layer.resolved_object.do_lower_case.numpy()"
   ]
  },
  {
   "cell_type": "code",
   "execution_count": 6,
   "metadata": {
    "id": "ZZROA4DMaK2N"
   },
   "outputs": [],
   "source": [
    "import sys\n",
    "sys.path.append('/content/drive/MyDrive/Colab Notebooks/Case Study 2 - Shopee Product Matching/')\n",
    "from tokenization import FullTokenizer"
   ]
  },
  {
   "cell_type": "code",
   "execution_count": 7,
   "metadata": {
    "id": "EEaxWfhLaK27"
   },
   "outputs": [],
   "source": [
    "tokenizer=FullTokenizer(vocab_file, do_lower_case)"
   ]
  },
  {
   "cell_type": "code",
   "execution_count": 8,
   "metadata": {
    "colab": {
     "base_uri": "https://localhost:8080/"
    },
    "id": "LG3GxmZUaK7_",
    "outputId": "82013184-a73d-4d21-b8e5-7c331da62249"
   },
   "outputs": [
    {
     "name": "stderr",
     "output_type": "stream",
     "text": [
      "100%|██████████| 34250/34250 [00:06<00:00, 5024.44it/s]\n"
     ]
    },
    {
     "data": {
      "text/plain": [
       "((34250, 84), (34250, 84), (34250, 84))"
      ]
     },
     "execution_count": 8,
     "metadata": {
      "tags": []
     },
     "output_type": "execute_result"
    }
   ],
   "source": [
    "max_seq_length=84\n",
    "title_tokens=[]\n",
    "for i in tqdm(train.preprocessed_title.values):\n",
    "    tok=['[CLS]']+tokenizer.tokenize(i)\n",
    "    if len(tok)>=max_seq_length-1:\n",
    "        tok=tok[:max_seq_length-1]+['[SEP]']\n",
    "    else:\n",
    "        tok=tok+['[SEP]']\n",
    "        tok=tok+(['[PAD]']*(max_seq_length-len(tok)))\n",
    "    title_tokens.append(np.array(tokenizer.convert_tokens_to_ids(tok)))\n",
    "title_tokens=np.array(title_tokens)\n",
    "\n",
    "title_masks=np.array([np.array([1 if j!=0 else 0 for j in i]) for i in title_tokens])\n",
    "\n",
    "#As we are not using any sentence seperation in titles\n",
    "title_segments=np.zeros(title_masks.shape)\n",
    "\n",
    "title_tokens.shape, title_masks.shape, title_segments.shape"
   ]
  },
  {
   "cell_type": "code",
   "execution_count": null,
   "metadata": {
    "colab": {
     "base_uri": "https://localhost:8080/"
    },
    "id": "kqJ4o7ACyoKV",
    "outputId": "1644dd14-b066-4f40-9e54-41a6999d57d6"
   },
   "outputs": [
    {
     "data": {
      "text/plain": [
       "(34250, 768)"
      ]
     },
     "execution_count": 13,
     "metadata": {
      "tags": []
     },
     "output_type": "execute_result"
    }
   ],
   "source": [
    "bert_embeddings=bert_model.predict([title_tokens, title_masks, title_segments])\n",
    "bert_embeddings.shape"
   ]
  },
  {
   "cell_type": "code",
   "execution_count": null,
   "metadata": {
    "id": "nuO8jL8Qw_wb"
   },
   "outputs": [],
   "source": [
    "bert_embeddings=np.array([i/np.linalg.norm(i) if np.linalg.norm(i)!=0 else i  for i in bert_embeddings])"
   ]
  },
  {
   "cell_type": "markdown",
   "metadata": {
    "id": "IAIqoR8U21kx"
   },
   "source": [
    "### **6.1 Using Cosine Similarity**"
   ]
  },
  {
   "cell_type": "code",
   "execution_count": null,
   "metadata": {
    "colab": {
     "base_uri": "https://localhost:8080/"
    },
    "id": "5TqhVC0S29A4",
    "outputId": "b9a8791a-1e75-415f-9063-905fca07be69"
   },
   "outputs": [
    {
     "name": "stdout",
     "output_type": "stream",
     "text": [
      "f1_score with cosine similarity threshold as 0.991 is 0.10938407748274505\n",
      "f1_score with cosine similarity threshold as 0.993 is 0.21085247103517524\n",
      "f1_score with cosine similarity threshold as 0.995 is 0.3619366875564113\n",
      "f1_score with cosine similarity threshold as 0.997 is 0.4846932349393558\n",
      "f1_score with cosine similarity threshold as 0.999 is 0.49012992622755225\n"
     ]
    }
   ],
   "source": [
    "chunksize=2048\n",
    "chunks=len(train)//chunksize if len(train)%chunksize==0 else (len(train)//chunksize)+1\n",
    "for cosine_threshold in [0.991,0.993,0.995,0.997,0.999]:\n",
    "    bert_matches=[]\n",
    "    for chunk in range(chunks):\n",
    "        start=chunk*chunksize\n",
    "        end=min(len(train), start+chunksize)\n",
    "        chunk_dot=np.dot(bert_embeddings[start:end], np.transpose(bert_embeddings))\n",
    "        for per_posting in chunk_dot:\n",
    "            indices=np.where(per_posting>=cosine_threshold)[0]\n",
    "            bert_matches.append(train.iloc[indices].posting_id.values.tolist())\n",
    "    print('f1_score with cosine similarity threshold as {} is {}'.format(cosine_threshold, f1_score(train.targets.values,bert_matches)))"
   ]
  },
  {
   "cell_type": "code",
   "execution_count": null,
   "metadata": {
    "colab": {
     "base_uri": "https://localhost:8080/"
    },
    "id": "-K-SGXBiCag_",
    "outputId": "409aac04-acd7-4376-9787-5f8f7b453b37"
   },
   "outputs": [
    {
     "name": "stdout",
     "output_type": "stream",
     "text": [
      "f1_score with cosine similarity threshold as 0.9991 is 0.48944534943446044\n",
      "f1_score with cosine similarity threshold as 0.9993 is 0.4882381758786645\n",
      "f1_score with cosine similarity threshold as 0.9995 is 0.4870175700449076\n",
      "f1_score with cosine similarity threshold as 0.9997 is 0.48615889973690773\n"
     ]
    }
   ],
   "source": [
    "chunksize=2048\n",
    "chunks=len(train)//chunksize if len(train)%chunksize==0 else (len(train)//chunksize)+1\n",
    "for cosine_threshold in [0.9991,0.9993,0.9995,0.9997]:\n",
    "    bert_matches=[]\n",
    "    for chunk in range(chunks):\n",
    "        start=chunk*chunksize\n",
    "        end=min(len(train), start+chunksize)\n",
    "        chunk_dot=np.dot(bert_embeddings[start:end], np.transpose(bert_embeddings))\n",
    "        for per_posting in chunk_dot:\n",
    "            indices=np.where(per_posting>=cosine_threshold)[0]\n",
    "            bert_matches.append(train.iloc[indices].posting_id.values.tolist())\n",
    "    print('f1_score with cosine similarity threshold as {} is {}'.format(cosine_threshold, f1_score(train.targets.values,bert_matches)))"
   ]
  },
  {
   "cell_type": "markdown",
   "metadata": {
    "id": "bHZuxEyLu4XN"
   },
   "source": [
    "### *BERT embeddings didn't give desired results as embeddings are not so Cosine(Angle) seperable.*"
   ]
  },
  {
   "cell_type": "markdown",
   "metadata": {
    "id": "HY4jwSy8CHBQ"
   },
   "source": [
    "# **7. Training BERT with ArcFace - Cosine Similarity**\n",
    "Reference Paper: https://arxiv.org/pdf/1801.07698.pdf\n",
    "\n",
    "*  *ArcFace is a modification to Softmax to make loss depend only on Cosine Similarity(Dot Product) between feature vector and weight vector. Let's consider Sigmoid for example. We know that the Sigmoid Function is 1/(1+exp-(W.X+b)) where X is the feature vector, W is weight and b is the bias term. Let's consider the plane passes through origin i.e. bias=0 for simplicity. Now Sigmoid=1/(1+exp-(W.X)).*\n",
    "\n",
    "*   *We know that dot(W,X)=||W||.||X||.Cos(angle between them). We compute this and consider this as probability estimation and calculate loss with that. What if we make W and X unit vectors? The loss depends only on angle between those vectors. That is if angle is less(more cosine similar) the loss is less and during training the model updates weights in such a way that it decreases angle between W and X for particular class label.*\n",
    "\n",
    "*  *In addition to this, What if we add some angle to actual? Even if angle is less, as we are adding certain angle and making vector less cosine similar the model tries to reduce the added angle during training which in-turn update the weights through back propagation in such a way that the actual angle is reduced. We are just making training harder which results in better learning than actual.*\n",
    "\n",
    "*  *This process of making loss depend on Angle(Cosine Similarity) and adding additional angle to that to improve training efficiency is called* **ArcFace- Additive Angular Margin Loss**"
   ]
  },
  {
   "cell_type": "code",
   "execution_count": 9,
   "metadata": {
    "id": "pxekdzKcCE4s"
   },
   "outputs": [],
   "source": [
    "class ArcFace(tf.keras.layers.Layer):\n",
    "    \n",
    "    # Implementation reference from https://github.com/lyakaap/Landmark2019-1st-and-3rd-Place-Solution/blob/master/src/modeling/metric_learning.py\n",
    "    \n",
    "    def __init__(self, n_classes, scale, margin, **kwargs):\n",
    "\n",
    "        super(ArcFace, self).__init__(**kwargs)\n",
    "\n",
    "        self.n_classes = n_classes\n",
    "        self.scale = scale\n",
    "        self.margin = margin\n",
    "        self.cos_m = tf.math.cos(margin)\n",
    "        self.sin_m = tf.math.sin(margin)\n",
    "\n",
    "    def get_config(self):\n",
    "\n",
    "        config = super().get_config().copy()\n",
    "        config.update({'n_classes': self.n_classes,'scale': self.scale,'margin': self.margin})\n",
    "        return config\n",
    "\n",
    "    def build(self, input_shape):\n",
    "        super(ArcFace, self).build(input_shape[0])\n",
    "\n",
    "        self.W = self.add_weight(\n",
    "            name='W',\n",
    "            shape=(int(input_shape[0][-1]), self.n_classes),\n",
    "            initializer='glorot_uniform',\n",
    "            dtype='float32',\n",
    "            trainable=True,\n",
    "            regularizer=None)\n",
    "\n",
    "    def call(self, inputs):\n",
    "        X, y = inputs\n",
    "        y = tf.cast(y, dtype=tf.int32)\n",
    "\n",
    "        # Normalizing vectors( Unit Vectors ) to make dot product depend only on angle between vectors.\n",
    "        cosine = tf.matmul(\n",
    "            tf.math.l2_normalize(X, axis=1),\n",
    "            tf.math.l2_normalize(self.W, axis=0)\n",
    "        )\n",
    "\n",
    "        # Sin(angle)^2 + Cos(angle)^2 = 1\n",
    "        sine = tf.math.sqrt(1.0 - tf.math.pow(cosine, 2))\n",
    "        \n",
    "        # Cos(angle+margin)=Cos(angle)*Cos(margin)-Sin(angle)*Sin(margin)\n",
    "        phi = cosine * self.cos_m - sine * self.sin_m\n",
    "\n",
    "        # Add margin only when angle in greater than 90 degrees(Cos(90)=0)\n",
    "        phi = tf.where(cosine > 0, phi, cosine)\n",
    "\n",
    "        one_hot = tf.cast(tf.one_hot(y, depth=self.n_classes),dtype=cosine.dtype)\n",
    "    \n",
    "        output = (one_hot * phi) + ((1.0 - one_hot) * cosine)\n",
    "        #\n",
    "        output *= self.scale\n",
    "        return output"
   ]
  },
  {
   "cell_type": "code",
   "execution_count": 10,
   "metadata": {
    "colab": {
     "base_uri": "https://localhost:8080/"
    },
    "id": "zWYBNqaBCFFT",
    "outputId": "e0656c1a-b43a-4d46-d1aa-34823dcaf03b"
   },
   "outputs": [
    {
     "name": "stdout",
     "output_type": "stream",
     "text": [
      "Model: \"model\"\n",
      "__________________________________________________________________________________________________\n",
      "Layer (type)                    Output Shape         Param #     Connected to                     \n",
      "==================================================================================================\n",
      "input_word_ids (InputLayer)     [(None, 84)]         0                                            \n",
      "__________________________________________________________________________________________________\n",
      "input_mask (InputLayer)         [(None, 84)]         0                                            \n",
      "__________________________________________________________________________________________________\n",
      "segment_ids (InputLayer)        [(None, 84)]         0                                            \n",
      "__________________________________________________________________________________________________\n",
      "keras_layer (KerasLayer)        [(None, 1024), (None 335141889   input_word_ids[0][0]             \n",
      "                                                                 input_mask[0][0]                 \n",
      "                                                                 segment_ids[0][0]                \n",
      "__________________________________________________________________________________________________\n",
      "label (InputLayer)              [(None,)]            0                                            \n",
      "__________________________________________________________________________________________________\n",
      "arc_face (ArcFace)              (None, 11014)        11278336    keras_layer[0][0]                \n",
      "                                                                 label[0][0]                      \n",
      "__________________________________________________________________________________________________\n",
      "softmax (Softmax)               (None, 11014)        0           arc_face[0][0]                   \n",
      "==================================================================================================\n",
      "Total params: 346,420,225\n",
      "Trainable params: 346,420,224\n",
      "Non-trainable params: 1\n",
      "__________________________________________________________________________________________________\n"
     ]
    }
   ],
   "source": [
    "tf.keras.backend.clear_session()\n",
    "\n",
    "max_seq_length=84\n",
    "\n",
    "input_word_ids = tf.keras.layers.Input(shape=(max_seq_length,), dtype=tf.int32, name=\"input_word_ids\")\n",
    "\n",
    "input_mask = tf.keras.layers.Input(shape=(max_seq_length,), dtype=tf.int32, name=\"input_mask\")\n",
    "\n",
    "segment_ids = tf.keras.layers.Input(shape=(max_seq_length,), dtype=tf.int32, name=\"segment_ids\")\n",
    "\n",
    "label = tf.keras.layers.Input(shape = (), name = 'label')\n",
    "\n",
    "#bert layer \n",
    "pooled_output, sequence_output = bert_layer([input_word_ids, input_mask, segment_ids])\n",
    "\n",
    "# margin=0.35 radians= 20 degrees approx, scale=30\n",
    "arc_face=ArcFace(train['label_group'].nunique(),30,0.35, dtype='float32')([pooled_output, label])\n",
    "\n",
    "out=tf.keras.layers.Softmax(dtype='float32')(arc_face)\n",
    "\n",
    "Bert_ArcFace_model=tf.keras.models.Model(inputs=[input_word_ids,input_mask,segment_ids,label], outputs=out)\n",
    "Bert_ArcFace_model.summary()"
   ]
  },
  {
   "cell_type": "code",
   "execution_count": 11,
   "metadata": {
    "colab": {
     "base_uri": "https://localhost:8080/",
     "height": 422
    },
    "id": "_O5J6NrfCFJe",
    "outputId": "e1a1c92a-fb5f-4a71-b84c-eb32f491ab42"
   },
   "outputs": [
    {
     "data": {
      "image/png": "[encoded data removed]",
      "text/plain": [
       "<IPython.core.display.Image object>"
      ]
     },
     "execution_count": 11,
     "metadata": {
      "tags": []
     },
     "output_type": "execute_result"
    }
   ],
   "source": [
    "tf.keras.utils.plot_model(Bert_ArcFace_model, show_shapes=True)"
   ]
  },
  {
   "cell_type": "code",
   "execution_count": 11,
   "metadata": {
    "colab": {
     "base_uri": "https://localhost:8080/"
    },
    "id": "UZJidsu9tono",
    "outputId": "640abe1c-18ee-4cde-ea2f-b563b4676ee3"
   },
   "outputs": [
    {
     "data": {
      "text/plain": [
       "((22947,), (11303,), (22947,), (11303,))"
      ]
     },
     "execution_count": 11,
     "metadata": {
      "tags": []
     },
     "output_type": "execute_result"
    }
   ],
   "source": [
    "x=train['preprocessed_title']\n",
    "encoder = LabelEncoder()\n",
    "train['label'] = encoder.fit_transform(train['label_group'])\n",
    "y=train['label'].values\n",
    "\n",
    "# We cannot choose test_size less than 0.33 because test_size should be more than number of class labels (11014)\n",
    "X_train, X_val, y_train, y_val=train_test_split(x, y, test_size=0.33, stratify=y)\n",
    "\n",
    "X_train.shape,X_val.shape,y_train.shape,y_val.shape"
   ]
  },
  {
   "cell_type": "code",
   "execution_count": 12,
   "metadata": {
    "colab": {
     "base_uri": "https://localhost:8080/"
    },
    "id": "KO4Haf6nCFKu",
    "outputId": "280776db-78e8-4bf2-a3dc-9d466f81eb56"
   },
   "outputs": [
    {
     "name": "stderr",
     "output_type": "stream",
     "text": [
      "100%|██████████| 22947/22947 [00:04<00:00, 4757.99it/s]\n"
     ]
    },
    {
     "data": {
      "text/plain": [
       "((22947, 84), (22947, 84), (22947, 84))"
      ]
     },
     "execution_count": 12,
     "metadata": {
      "tags": []
     },
     "output_type": "execute_result"
    }
   ],
   "source": [
    "train_tokens=[]\n",
    "for i in tqdm(X_train.values):\n",
    "    tok=['[CLS]']+tokenizer.tokenize(i)\n",
    "    if len(tok)>=max_seq_length-1:\n",
    "        tok=tok[:max_seq_length-1]+['[SEP]']\n",
    "    else:\n",
    "        tok=tok+['[SEP]']\n",
    "        tok=tok+(['[PAD]']*(max_seq_length-len(tok)))\n",
    "    train_tokens.append(np.array(tokenizer.convert_tokens_to_ids(tok)))\n",
    "train_tokens=np.array(train_tokens)\n",
    "\n",
    "train_masks=np.array([np.array([1 if j!=0 else 0 for j in i]) for i in train_tokens])\n",
    "\n",
    "#As we are not using any sentence seperation in titles\n",
    "train_segments=np.zeros(train_masks.shape)\n",
    "\n",
    "train_tokens.shape, train_masks.shape, train_segments.shape"
   ]
  },
  {
   "cell_type": "code",
   "execution_count": 13,
   "metadata": {
    "colab": {
     "base_uri": "https://localhost:8080/"
    },
    "id": "wRQenPjHCFPB",
    "outputId": "282a3e2d-2667-4b0c-f777-650e5ca3af67"
   },
   "outputs": [
    {
     "name": "stderr",
     "output_type": "stream",
     "text": [
      "100%|██████████| 11303/11303 [00:02<00:00, 4656.43it/s]\n"
     ]
    },
    {
     "data": {
      "text/plain": [
       "((11303, 84), (11303, 84), (11303, 84))"
      ]
     },
     "execution_count": 13,
     "metadata": {
      "tags": []
     },
     "output_type": "execute_result"
    }
   ],
   "source": [
    "max_seq_length=84\n",
    "val_tokens=[]\n",
    "for i in tqdm(X_val.values):\n",
    "    tok=['[CLS]']+tokenizer.tokenize(i)\n",
    "    if len(tok)>=max_seq_length-1:\n",
    "        tok=tok[:max_seq_length-1]+['[SEP]']\n",
    "    else:\n",
    "        tok=tok+['[SEP]']\n",
    "        tok=tok+(['[PAD]']*(max_seq_length-len(tok)))\n",
    "    val_tokens.append(np.array(tokenizer.convert_tokens_to_ids(tok)))\n",
    "val_tokens=np.array(val_tokens)\n",
    "\n",
    "val_masks=np.array([np.array([1 if j!=0 else 0 for j in i]) for i in val_tokens])\n",
    "\n",
    "#As we are not using any sentence seperation in titles\n",
    "val_segments=np.zeros(val_masks.shape)\n",
    "\n",
    "val_tokens.shape, val_masks.shape, val_segments.shape"
   ]
  },
  {
   "cell_type": "code",
   "execution_count": 14,
   "metadata": {
    "id": "UPB_sSggyjjV"
   },
   "outputs": [],
   "source": [
    "train_data=[train_tokens, train_masks, train_segments, y_train]\n",
    "val_data=[val_tokens, val_masks, val_segments, y_val]"
   ]
  },
  {
   "cell_type": "code",
   "execution_count": 16,
   "metadata": {
    "id": "rBNzBif90lo7"
   },
   "outputs": [],
   "source": [
    "class save(tf.keras.callbacks.Callback):\n",
    "    \n",
    "    def on_epoch_end(self, epoch, logs={}):\n",
    "        #saving model on every epoch\n",
    "        filepath='/content/drive/MyDrive/Colab Notebooks/Case Study 2 - Shopee Product Matching/BERT ArcFace models/BERT_ArcFace_epoch_'+str(epoch+1)+'.hdf5'\n",
    "        self.model.save_weights(filepath)\n",
    "        \n",
    "save=save()"
   ]
  },
  {
   "cell_type": "code",
   "execution_count": 18,
   "metadata": {
    "id": "wkA4uWRz1GPT"
   },
   "outputs": [],
   "source": [
    "def scheduler(epoch, lr):\n",
    "    learning_rate=lr\n",
    "    if (epoch+1)%2==0:\n",
    "        learning_rate=learning_rate*0.85\n",
    "    return learning_rate\n",
    "adap_lr=tf.keras.callbacks.LearningRateScheduler(scheduler)"
   ]
  },
  {
   "cell_type": "code",
   "execution_count": 17,
   "metadata": {
    "colab": {
     "base_uri": "https://localhost:8080/"
    },
    "id": "TpGYE4KOCFQT",
    "outputId": "309e9e26-e294-4b5f-e086-4ea20f975478"
   },
   "outputs": [
    {
     "name": "stdout",
     "output_type": "stream",
     "text": [
      "Epoch 1/30\n",
      "718/718 [==============================] - 840s 1s/step - loss: 14.0490 - sparse_categorical_accuracy: 0.0000e+00 - val_loss: 19.0250 - val_sparse_categorical_accuracy: 0.0000e+00\n",
      "Epoch 2/30\n",
      "718/718 [==============================] - 813s 1s/step - loss: 11.8228 - sparse_categorical_accuracy: 0.0000e+00 - val_loss: 11.3504 - val_sparse_categorical_accuracy: 0.0000e+00\n",
      "Epoch 3/30\n",
      "718/718 [==============================] - 814s 1s/step - loss: 11.5943 - sparse_categorical_accuracy: 0.0000e+00 - val_loss: 11.7645 - val_sparse_categorical_accuracy: 0.0000e+00\n",
      "Epoch 4/30\n",
      "718/718 [==============================] - 814s 1s/step - loss: 13.5871 - sparse_categorical_accuracy: 0.0017 - val_loss: 14.5296 - val_sparse_categorical_accuracy: 0.0027\n",
      "Epoch 5/30\n",
      "718/718 [==============================] - 814s 1s/step - loss: 15.9916 - sparse_categorical_accuracy: 0.0079 - val_loss: 15.9226 - val_sparse_categorical_accuracy: 0.0126\n",
      "Epoch 6/30\n",
      "718/718 [==============================] - 836s 1s/step - loss: 15.4882 - sparse_categorical_accuracy: 0.0195 - val_loss: 15.5323 - val_sparse_categorical_accuracy: 0.0242\n",
      "Epoch 7/30\n",
      "718/718 [==============================] - 815s 1s/step - loss: 13.9422 - sparse_categorical_accuracy: 0.0390 - val_loss: 14.9524 - val_sparse_categorical_accuracy: 0.0399\n",
      "Epoch 8/30\n",
      "718/718 [==============================] - 815s 1s/step - loss: 12.4071 - sparse_categorical_accuracy: 0.0627 - val_loss: 14.3734 - val_sparse_categorical_accuracy: 0.0544\n",
      "Epoch 9/30\n",
      "718/718 [==============================] - 815s 1s/step - loss: 10.9754 - sparse_categorical_accuracy: 0.0928 - val_loss: 13.9307 - val_sparse_categorical_accuracy: 0.0718\n",
      "Epoch 10/30\n",
      "718/718 [==============================] - 837s 1s/step - loss: 9.6621 - sparse_categorical_accuracy: 0.1351 - val_loss: 13.4118 - val_sparse_categorical_accuracy: 0.0905\n",
      "Epoch 11/30\n",
      "718/718 [==============================] - 815s 1s/step - loss: 8.4363 - sparse_categorical_accuracy: 0.1867 - val_loss: 13.0123 - val_sparse_categorical_accuracy: 0.1084\n",
      "Epoch 12/30\n",
      "718/718 [==============================] - 815s 1s/step - loss: 7.3123 - sparse_categorical_accuracy: 0.2512 - val_loss: 12.6856 - val_sparse_categorical_accuracy: 0.1260\n",
      "Epoch 13/30\n",
      "718/718 [==============================] - 815s 1s/step - loss: 6.2770 - sparse_categorical_accuracy: 0.3257 - val_loss: 12.3250 - val_sparse_categorical_accuracy: 0.1425\n",
      "Epoch 14/30\n",
      "718/718 [==============================] - 813s 1s/step - loss: 5.3332 - sparse_categorical_accuracy: 0.4137 - val_loss: 12.0472 - val_sparse_categorical_accuracy: 0.1541\n",
      "Epoch 15/30\n",
      "718/718 [==============================] - 813s 1s/step - loss: 4.5126 - sparse_categorical_accuracy: 0.5034 - val_loss: 11.7821 - val_sparse_categorical_accuracy: 0.1647\n",
      "Epoch 16/30\n",
      "718/718 [==============================] - 813s 1s/step - loss: 3.7770 - sparse_categorical_accuracy: 0.5931 - val_loss: 11.5391 - val_sparse_categorical_accuracy: 0.1753\n",
      "Epoch 17/30\n",
      "718/718 [==============================] - 814s 1s/step - loss: 3.1333 - sparse_categorical_accuracy: 0.6766 - val_loss: 11.3285 - val_sparse_categorical_accuracy: 0.1892\n",
      "Epoch 18/30\n",
      "718/718 [==============================] - 813s 1s/step - loss: 2.5682 - sparse_categorical_accuracy: 0.7655 - val_loss: 11.1682 - val_sparse_categorical_accuracy: 0.2014\n",
      "Epoch 19/30\n",
      "718/718 [==============================] - 813s 1s/step - loss: 2.0975 - sparse_categorical_accuracy: 0.8452 - val_loss: 11.0102 - val_sparse_categorical_accuracy: 0.2130\n",
      "Epoch 20/30\n",
      "718/718 [==============================] - 813s 1s/step - loss: 1.7043 - sparse_categorical_accuracy: 0.9044 - val_loss: 10.8559 - val_sparse_categorical_accuracy: 0.2229\n",
      "Epoch 21/30\n",
      "718/718 [==============================] - 813s 1s/step - loss: 1.3588 - sparse_categorical_accuracy: 0.9457 - val_loss: 10.6955 - val_sparse_categorical_accuracy: 0.2309\n",
      "Epoch 22/30\n",
      "718/718 [==============================] - 812s 1s/step - loss: 1.0900 - sparse_categorical_accuracy: 0.9658 - val_loss: 10.5844 - val_sparse_categorical_accuracy: 0.2376\n",
      "Epoch 23/30\n",
      "718/718 [==============================] - 813s 1s/step - loss: 0.8736 - sparse_categorical_accuracy: 0.9777 - val_loss: 10.4641 - val_sparse_categorical_accuracy: 0.2439\n",
      "Epoch 24/30\n",
      "718/718 [==============================] - 813s 1s/step - loss: 0.6839 - sparse_categorical_accuracy: 0.9848 - val_loss: 10.3329 - val_sparse_categorical_accuracy: 0.2524\n",
      "Epoch 25/30\n",
      "718/718 [==============================] - 813s 1s/step - loss: 0.5273 - sparse_categorical_accuracy: 0.9878 - val_loss: 10.2583 - val_sparse_categorical_accuracy: 0.2557\n",
      "Epoch 26/30\n",
      "718/718 [==============================] - 813s 1s/step - loss: 0.4045 - sparse_categorical_accuracy: 0.9902 - val_loss: 10.1479 - val_sparse_categorical_accuracy: 0.2621\n",
      "Epoch 27/30\n",
      "718/718 [==============================] - 813s 1s/step - loss: 0.3107 - sparse_categorical_accuracy: 0.9910 - val_loss: 10.0825 - val_sparse_categorical_accuracy: 0.2678\n",
      "Epoch 28/30\n",
      "718/718 [==============================] - 813s 1s/step - loss: 0.2555 - sparse_categorical_accuracy: 0.9907 - val_loss: 9.9794 - val_sparse_categorical_accuracy: 0.2732\n",
      "Epoch 29/30\n",
      "718/718 [==============================] - 813s 1s/step - loss: 0.2366 - sparse_categorical_accuracy: 0.9891 - val_loss: 9.9299 - val_sparse_categorical_accuracy: 0.2765\n",
      "Epoch 30/30\n",
      "718/718 [==============================] - 813s 1s/step - loss: 0.2063 - sparse_categorical_accuracy: 0.9893 - val_loss: 9.8997 - val_sparse_categorical_accuracy: 0.2780\n"
     ]
    },
    {
     "data": {
      "text/plain": [
       "<tensorflow.python.keras.callbacks.History at 0x7f2976efca10>"
      ]
     },
     "execution_count": 17,
     "metadata": {
      "tags": []
     },
     "output_type": "execute_result"
    }
   ],
   "source": [
    "Bert_ArcFace_model.compile(optimizer=tf.keras.optimizers.Adam(learning_rate = 0.00001), loss=[tf.keras.losses.SparseCategoricalCrossentropy()], metrics = [tf.keras.metrics.SparseCategoricalAccuracy()])\n",
    "Bert_ArcFace_model.fit(train_data, y_train, epochs=30, batch_size=32, validation_data=(val_data, y_val), callbacks=[save])"
   ]
  },
  {
   "cell_type": "code",
   "execution_count": 12,
   "metadata": {
    "id": "7eS1G2UPwtbF"
   },
   "outputs": [],
   "source": [
    "Bert_ArcFace_model.load_weights('/content/drive/MyDrive/Colab Notebooks/Case Study 2 - Shopee Product Matching/BERT ArcFace models/BERT_ArcFace_epoch_26.hdf5')"
   ]
  },
  {
   "cell_type": "code",
   "execution_count": 13,
   "metadata": {
    "colab": {
     "base_uri": "https://localhost:8080/",
     "height": 201
    },
    "id": "gzL1UDASx978",
    "outputId": "2e0241eb-556c-4005-d491-84666cdc289c"
   },
   "outputs": [
    {
     "data": {
      "image/png": "[encoded data removed]",
      "text/plain": [
       "<IPython.core.display.Image object>"
      ]
     },
     "execution_count": 13,
     "metadata": {
      "tags": []
     },
     "output_type": "execute_result"
    }
   ],
   "source": [
    "tf.keras.backend.clear_session()\n",
    "\n",
    "input_word_ids = tf.keras.layers.Input(shape=(max_seq_length,), dtype=tf.int32, name=\"input_word_ids\")\n",
    "input_mask = tf.keras.layers.Input(shape=(max_seq_length,), dtype=tf.int32, name=\"input_mask\")\n",
    "segment_ids = tf.keras.layers.Input(shape=(max_seq_length,), dtype=tf.int32, name=\"segment_ids\")\n",
    "\n",
    "pooled_embed,seq_embed=Bert_ArcFace_model.layers[3]([input_word_ids, input_mask, segment_ids])\n",
    "\n",
    "bert_arcface_encoder=tf.keras.models.Model(inputs=[input_word_ids, input_mask, segment_ids], outputs=[pooled_embed])\n",
    "tf.keras.utils.plot_model(bert_arcface_encoder, show_shapes=True)"
   ]
  },
  {
   "cell_type": "code",
   "execution_count": 14,
   "metadata": {
    "colab": {
     "base_uri": "https://localhost:8080/"
    },
    "id": "GN1DeRg6CFan",
    "outputId": "6c44f6fe-ac2d-4bbb-984c-c76a786c80ed"
   },
   "outputs": [
    {
     "data": {
      "text/plain": [
       "(34250, 1024)"
      ]
     },
     "execution_count": 14,
     "metadata": {
      "tags": []
     },
     "output_type": "execute_result"
    }
   ],
   "source": [
    "bert_embeddings=bert_arcface_encoder.predict([title_tokens, title_masks, title_segments])\n",
    "# Making Vectors to be of Unit lenght to get Cosine Similarity between -1 and 1\n",
    "bert_embeddings=np.array([i/np.linalg.norm(i) if np.linalg.norm(i)!=0 else i  for i in bert_embeddings])\n",
    "bert_embeddings.shape"
   ]
  },
  {
   "cell_type": "markdown",
   "metadata": {
    "id": "9S0jA_CvS0W2"
   },
   "source": [
    "### **7.1 Cosine Similarity**"
   ]
  },
  {
   "cell_type": "code",
   "execution_count": 15,
   "metadata": {
    "colab": {
     "base_uri": "https://localhost:8080/"
    },
    "id": "x402GczLCFb-",
    "outputId": "477a3427-eb08-4a27-ac2c-0b8b7d8a34a8"
   },
   "outputs": [
    {
     "name": "stdout",
     "output_type": "stream",
     "text": [
      "f1_score with cosine similarity threshold as 0.35 is 0.8053618401247289\n",
      "f1_score with cosine similarity threshold as 0.4 is 0.828428044168913\n",
      "f1_score with cosine similarity threshold as 0.45 is 0.8338048828326806\n",
      "f1_score with cosine similarity threshold as 0.5 is 0.8301533178159612\n",
      "f1_score with cosine similarity threshold as 0.55 is 0.8231070465561152\n",
      "f1_score with cosine similarity threshold as 0.6 is 0.8139163921290603\n"
     ]
    }
   ],
   "source": [
    "chunksize=2048\n",
    "chunks=len(train)//chunksize if len(train)%chunksize==0 else (len(train)//chunksize)+1\n",
    "for cosine_threshold in [0.35,0.4,0.45,0.5,0.55,0.6]:\n",
    "    bert_matches=[]\n",
    "    for chunk in range(chunks):\n",
    "        start=chunk*chunksize\n",
    "        end=min(len(train), start+chunksize)\n",
    "        chunk_dot=np.dot(bert_embeddings[start:end], np.transpose(bert_embeddings))\n",
    "        for per_posting in chunk_dot:\n",
    "            indices=np.where(per_posting>=cosine_threshold)[0]\n",
    "            bert_matches.append(train.iloc[indices].posting_id.values.tolist())\n",
    "    print('f1_score with cosine similarity threshold as {} is {}'.format(cosine_threshold, f1_score(train.targets.values,bert_matches)))"
   ]
  },
  {
   "cell_type": "markdown",
   "metadata": {
    "id": "VRikmiHFtfdz"
   },
   "source": [
    "### **Optimum threshold we observed with training data:** 0.45\n",
    "### **Submission: https://www.kaggle.com/chaitanyaboyalla/bert-arcface-cosine-threshold**\n",
    "### **Submission score with 0.45 as threshold: 0.577 (Version 6)**\n",
    "### **Submission score with 0.5 as threshold: 0.581 (Version 5)**"
   ]
  },
  {
   "cell_type": "markdown",
   "metadata": {
    "id": "QsDTV4iES8dv"
   },
   "source": [
    "### **7.2 Euclidean Distance**"
   ]
  },
  {
   "cell_type": "code",
   "execution_count": 15,
   "metadata": {
    "colab": {
     "base_uri": "https://localhost:8080/"
    },
    "id": "7CWG4pgGCFgV",
    "outputId": "930e030e-0f85-433d-8b46-2d2cbaea3122"
   },
   "outputs": [
    {
     "data": {
      "text/plain": [
       "NearestNeighbors(algorithm='auto', leaf_size=30, metric='minkowski',\n",
       "                 metric_params=None, n_jobs=None, n_neighbors=50, p=2,\n",
       "                 radius=1.0)"
      ]
     },
     "execution_count": 15,
     "metadata": {
      "tags": []
     },
     "output_type": "execute_result"
    }
   ],
   "source": [
    "nn=NearestNeighbors(n_neighbors=50, metric='minkowski', p=2) \n",
    "# p=2 --> Euclidean Distance\n",
    "# n_neighbors=50 because kaggle doesn't consider more than 50 matches for a posting in this competition\n",
    "nn.fit(bert_embeddings)"
   ]
  },
  {
   "cell_type": "code",
   "execution_count": null,
   "metadata": {
    "colab": {
     "base_uri": "https://localhost:8080/"
    },
    "id": "rvzw0hp9rRU8",
    "outputId": "0ec4d751-e29d-4ef3-e027-c73afb6ea5bb"
   },
   "outputs": [
    {
     "name": "stdout",
     "output_type": "stream",
     "text": [
      "f1_score with euclidean distance threshold as 0.7 is 0.7630576531838613\n",
      "f1_score with euclidean distance threshold as 0.75 is 0.7813163764398094\n",
      "f1_score with euclidean distance threshold as 0.8 is 0.7944628602370533\n",
      "f1_score with euclidean distance threshold as 0.85 is 0.8046952149162264\n",
      "f1_score with euclidean distance threshold as 0.9 is 0.8148519779421138\n"
     ]
    }
   ],
   "source": [
    "chunksize=2048\n",
    "chunks=len(train)//chunksize if len(train)%chunksize==0 else (len(train)//chunksize)+1\n",
    "for euclidean_threshold in [0.7,0.75,0.8,0.85,0.9]:\n",
    "    bert_matches=[]\n",
    "    for chunk in range(chunks):\n",
    "        start=chunk*chunksize\n",
    "        end=min(len(train), start+chunksize)\n",
    "        distances,indices=nn.kneighbors(bert_embeddings[start:end,])\n",
    "        for i,per_posting in enumerate(distances):\n",
    "            ind=np.where(per_posting<=euclidean_threshold)[0]\n",
    "            post_indices=indices[i,ind]\n",
    "            bert_matches.append(train.iloc[post_indices].posting_id.values.tolist())\n",
    "    print('f1_score with euclidean distance threshold as {} is {}'.format(euclidean_threshold, f1_score(train.targets.values,bert_matches)))"
   ]
  },
  {
   "cell_type": "code",
   "execution_count": 17,
   "metadata": {
    "colab": {
     "base_uri": "https://localhost:8080/"
    },
    "id": "yXayBa6L0co8",
    "outputId": "43d4cc35-a12a-4e77-bf5c-8a478273e541"
   },
   "outputs": [
    {
     "name": "stdout",
     "output_type": "stream",
     "text": [
      "f1_score with euclidean distance threshold as 0.95 is 0.8231309600458431\n",
      "f1_score with euclidean distance threshold as 1.0 is 0.8300282975160427\n",
      "f1_score with euclidean distance threshold as 1.05 is 0.8335928102055444\n",
      "f1_score with euclidean distance threshold as 1.1 is 0.8269489263073421\n",
      "f1_score with euclidean distance threshold as 1.15 is 0.7964130126678556\n"
     ]
    }
   ],
   "source": [
    "chunksize=2048\n",
    "chunks=len(train)//chunksize if len(train)%chunksize==0 else (len(train)//chunksize)+1\n",
    "for euclidean_threshold in [0.95,1.0,1.05,1.1,1.15]:\n",
    "    bert_matches=[]\n",
    "    for chunk in range(chunks):\n",
    "        start=chunk*chunksize\n",
    "        end=min(len(train), start+chunksize)\n",
    "        distances,indices=nn.kneighbors(bert_embeddings[start:end,])\n",
    "        for i,per_posting in enumerate(distances):\n",
    "            ind=np.where(per_posting<=euclidean_threshold)[0]\n",
    "            post_indices=indices[i,ind]\n",
    "            bert_matches.append(train.iloc[post_indices].posting_id.values.tolist())\n",
    "    print('f1_score with euclidean distance threshold as {} is {}'.format(euclidean_threshold, f1_score(train.targets.values,bert_matches)))"
   ]
  },
  {
   "cell_type": "markdown",
   "metadata": {
    "id": "-xT10cV2Va0T"
   },
   "source": [
    "### **Optimum threshold we observed with training data:** 1.05\n",
    "### **Submission: https://www.kaggle.com/chaitanyaboyalla/bert-arcface-euclidean-threshold**\n",
    "### **Submission score with 1.05 as threshold: 0.577 (Version 3)**\n",
    "### **Submission score with 1.0 as threshold: 0.581 (Version 2)**"
   ]
  },
  {
   "cell_type": "markdown",
   "metadata": {
    "id": "hPK5VETdYx1e"
   },
   "source": [
    "***Scores with Cosine and Euclidean be similar as they are proportional because I converted embeddings into Unit Vectors.***"
   ]
  }
 ],
 "metadata": {
  "accelerator": "GPU",
  "colab": {
   "collapsed_sections": [],
   "name": "Shopee - Text Based Models/Embeddings by Chaitanya Boyalla",
   "provenance": []
  },
  "kernelspec": {
   "display_name": "Python 3",
   "language": "python",
   "name": "python3"
  },
  "language_info": {
   "codemirror_mode": {
    "name": "ipython",
    "version": 3
   },
   "file_extension": ".py",
   "mimetype": "text/x-python",
   "name": "python",
   "nbconvert_exporter": "python",
   "pygments_lexer": "ipython3",
   "version": "3.7.6"
  }
 },
 "nbformat": 4,
 "nbformat_minor": 1
}
