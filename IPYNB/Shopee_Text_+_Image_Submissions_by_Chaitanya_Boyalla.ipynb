{
 "cells": [
  {
   "cell_type": "markdown",
   "metadata": {
    "id": "YYPRtAbBs-ow"
   },
   "source": [
    "# **1. Text Only Submission - IDF+BERT Embeddings**\n"
   ]
  },
  {
   "cell_type": "markdown",
   "metadata": {
    "id": "MgG-4XsJtsAU"
   },
   "source": [
    "### *IDF Threshold:* 0.6\n",
    "### *BERT Threshold:* 0.7\n",
    "\n",
    "## **Submission:** https://www.kaggle.com/chaitanyaboyalla/shopee-text-only-idf-bert\n",
    "## **Public Score:** 0.615\n",
    "## **Private Score:** 0.603"
   ]
  },
  {
   "cell_type": "markdown",
   "metadata": {
    "id": "vuGG3JDRs-4e"
   },
   "source": [
    "# **2. Image Only Submission - EfficientNet B3 + ResNet 50 Embeddings**\n"
   ]
  },
  {
   "cell_type": "markdown",
   "metadata": {
    "id": "jKOwwcQttsx5"
   },
   "source": [
    "### *EfficientNet B3 Threshold:* 0.6\n",
    "### *ResNet 50 Threshold:* 0.75\n",
    "\n",
    "## **Submission:** https://www.kaggle.com/chaitanyaboyalla/shopee-image-only-arcface-effnetb3-resnet50\n",
    "## **Public Score:** 0.697\n",
    "## **Private Score:** 0.689"
   ]
  },
  {
   "cell_type": "markdown",
   "metadata": {
    "id": "2M_1Pngms_xs"
   },
   "source": [
    "# **3. EfficientNet B3 + BERT Embeddings**\n"
   ]
  },
  {
   "cell_type": "markdown",
   "metadata": {
    "id": "SlJuXke7ttlM"
   },
   "source": [
    "### *EfficientNet B3 Threshold:* 0.6\n",
    "### *BERT Threshold:* 0.65\n",
    "\n",
    "## **Submission:** https://www.kaggle.com/chaitanyaboyalla/shopee-arcface-efnet-b3-bert\n",
    "## **Public Score:** 0.722\n",
    "## **Private Score:** 0.714"
   ]
  },
  {
   "cell_type": "markdown",
   "metadata": {
    "id": "-TJFEQ1ps_-w"
   },
   "source": [
    "# **4. EfficientNet B3 + IDF Embeddings**\n"
   ]
  },
  {
   "cell_type": "markdown",
   "metadata": {
    "id": "MJ62LonXtucc"
   },
   "source": [
    "### *EfficientNet B3 Threshold:* 0.6\n",
    "### *IDF Threshold:* 0.75\n",
    "\n",
    "## **Submission:** https://www.kaggle.com/chaitanyaboyalla/shopee-efficientnet-b3-idf\n",
    "## **Public Score:** 0.730\n",
    "## **Private Score:** 0.719"
   ]
  },
  {
   "cell_type": "markdown",
   "metadata": {
    "id": "CGSZ9pjWtALE"
   },
   "source": [
    "# **5. EfficientNet B3 + IDF + BERT Embeddings**\n"
   ]
  },
  {
   "cell_type": "markdown",
   "metadata": {
    "id": "MRtQyLb9tvHl"
   },
   "source": [
    "### *EfficientNet B3 Threshold:* 0.6\n",
    "### *IDF Threshold:* 0.75\n",
    "### *BERT Threshold:* 0.7\n",
    "\n",
    "## **Submission:** https://www.kaggle.com/chaitanyaboyalla/shopee-efnet-b3-idf-bert\n",
    "## **Public Score:** 0.730\n",
    "## **Private Score:** 0.720"
   ]
  },
  {
   "cell_type": "markdown",
   "metadata": {
    "id": "CEc9IYV3vInT"
   },
   "source": [
    "***All thresholds are Cosine Similarity thresholds.***"
   ]
  }
 ],
 "metadata": {
  "accelerator": "GPU",
  "colab": {
   "collapsed_sections": [],
   "name": "Shopee Text + Image Submissions by Chaitanya Boyalla",
   "provenance": []
  },
  "kernelspec": {
   "display_name": "Python 3",
   "language": "python",
   "name": "python3"
  },
  "language_info": {
   "codemirror_mode": {
    "name": "ipython",
    "version": 3
   },
   "file_extension": ".py",
   "mimetype": "text/x-python",
   "name": "python",
   "nbconvert_exporter": "python",
   "pygments_lexer": "ipython3",
   "version": "3.7.6"
  }
 },
 "nbformat": 4,
 "nbformat_minor": 1
}
